{
 "cells": [
  {
   "cell_type": "code",
   "execution_count": 1,
   "metadata": {},
   "outputs": [],
   "source": [
    "import pandas as pd\n",
    "import psycopg2 as pg\n",
    "import config\n",
    "from psycopg2 import DatabaseError\n",
    "\n",
    "\n",
    "def query_db(query: str, print_query: bool = True):\n",
    "    if print_query:\n",
    "        print(query)\n",
    "\n",
    "    records = pd.DataFrame()\n",
    "    try:\n",
    "        with (pg.connect(**config.postgresql_db) as connection,\n",
    "              connection.cursor() as cursor):\n",
    "\n",
    "            connection.autocommit = True\n",
    "            cursor.execute(query)\n",
    "\n",
    "            rowcount = cursor.rowcount\n",
    "            if rowcount > 0:\n",
    "                print(f\"Rowcount: {rowcount}\")\n",
    "\n",
    "            try:\n",
    "                records = pd.DataFrame(cursor.fetchall())\n",
    "            except:\n",
    "                # query did not return data\n",
    "                pass\n",
    "\n",
    "    except (Exception, DatabaseError) as error_:\n",
    "        print(\"PostgreSQL Error:\", error_)\n",
    "\n",
    "    return records"
   ]
  },
  {
   "cell_type": "code",
   "execution_count": 2,
   "metadata": {},
   "outputs": [
    {
     "name": "stdout",
     "output_type": "stream",
     "text": [
      "SELECT NOW();\n",
      "\n",
      "Rowcount: 1\n"
     ]
    },
    {
     "data": {
      "text/html": [
       "<div>\n",
       "<style scoped>\n",
       "    .dataframe tbody tr th:only-of-type {\n",
       "        vertical-align: middle;\n",
       "    }\n",
       "\n",
       "    .dataframe tbody tr th {\n",
       "        vertical-align: top;\n",
       "    }\n",
       "\n",
       "    .dataframe thead th {\n",
       "        text-align: right;\n",
       "    }\n",
       "</style>\n",
       "<table border=\"1\" class=\"dataframe\">\n",
       "  <thead>\n",
       "    <tr style=\"text-align: right;\">\n",
       "      <th></th>\n",
       "      <th>0</th>\n",
       "    </tr>\n",
       "  </thead>\n",
       "  <tbody>\n",
       "    <tr>\n",
       "      <th>0</th>\n",
       "      <td>2024-03-26 03:30:24.170691+00:00</td>\n",
       "    </tr>\n",
       "  </tbody>\n",
       "</table>\n",
       "</div>"
      ],
      "text/plain": [
       "                                 0\n",
       "0 2024-03-26 03:30:24.170691+00:00"
      ]
     },
     "execution_count": 2,
     "metadata": {},
     "output_type": "execute_result"
    }
   ],
   "source": [
    "# check if everything works\n",
    "query = '''\\\n",
    "SELECT NOW();\n",
    "'''\n",
    "query_db(query).head()"
   ]
  },
  {
   "cell_type": "code",
   "execution_count": 3,
   "metadata": {},
   "outputs": [
    {
     "name": "stdout",
     "output_type": "stream",
     "text": [
      "CREATE TABLE countries (\n",
      "    COUNTRY_ID varchar(3),\n",
      "    COUNTRY_NAME varchar(45),\n",
      "    REGION_ID decimal(10,0)\n",
      ");\n",
      "\n",
      "PostgreSQL Error: relation \"countries\" already exists\n",
      "\n"
     ]
    },
    {
     "data": {
      "text/html": [
       "<div>\n",
       "<style scoped>\n",
       "    .dataframe tbody tr th:only-of-type {\n",
       "        vertical-align: middle;\n",
       "    }\n",
       "\n",
       "    .dataframe tbody tr th {\n",
       "        vertical-align: top;\n",
       "    }\n",
       "\n",
       "    .dataframe thead th {\n",
       "        text-align: right;\n",
       "    }\n",
       "</style>\n",
       "<table border=\"1\" class=\"dataframe\">\n",
       "  <thead>\n",
       "    <tr style=\"text-align: right;\">\n",
       "      <th></th>\n",
       "    </tr>\n",
       "  </thead>\n",
       "  <tbody>\n",
       "  </tbody>\n",
       "</table>\n",
       "</div>"
      ],
      "text/plain": [
       "Empty DataFrame\n",
       "Columns: []\n",
       "Index: []"
      ]
     },
     "execution_count": 3,
     "metadata": {},
     "output_type": "execute_result"
    }
   ],
   "source": [
    "# PostgreSQL Create Table\n",
    "# 1. Write a SQL statement to create a simple table countries\n",
    "# including columns country_id,country_name and region_id.\n",
    "\n",
    "query = '''\\\n",
    "CREATE TABLE countries (\n",
    "    COUNTRY_ID varchar(3),\n",
    "    COUNTRY_NAME varchar(45),\n",
    "    REGION_ID decimal(10,0)\n",
    ");\n",
    "'''\n",
    "query_db(query).head()"
   ]
  },
  {
   "cell_type": "code",
   "execution_count": 4,
   "metadata": {},
   "outputs": [
    {
     "name": "stdout",
     "output_type": "stream",
     "text": [
      "CREATE TABLE dup_countries (\n",
      "    LIKE countries\n",
      "    INCLUDING ALL\n",
      ");\n",
      "\n"
     ]
    },
    {
     "data": {
      "text/html": [
       "<div>\n",
       "<style scoped>\n",
       "    .dataframe tbody tr th:only-of-type {\n",
       "        vertical-align: middle;\n",
       "    }\n",
       "\n",
       "    .dataframe tbody tr th {\n",
       "        vertical-align: top;\n",
       "    }\n",
       "\n",
       "    .dataframe thead th {\n",
       "        text-align: right;\n",
       "    }\n",
       "</style>\n",
       "<table border=\"1\" class=\"dataframe\">\n",
       "  <thead>\n",
       "    <tr style=\"text-align: right;\">\n",
       "      <th></th>\n",
       "    </tr>\n",
       "  </thead>\n",
       "  <tbody>\n",
       "  </tbody>\n",
       "</table>\n",
       "</div>"
      ],
      "text/plain": [
       "Empty DataFrame\n",
       "Columns: []\n",
       "Index: []"
      ]
     },
     "execution_count": 4,
     "metadata": {},
     "output_type": "execute_result"
    }
   ],
   "source": [
    "# PostgreSQL Create Table\n",
    "# 3. Write a SQL statement to create the structure of\n",
    "# a table dup_countries similar to countries.\n",
    "\n",
    "query = '''\\\n",
    "CREATE TABLE dup_countries (\n",
    "    LIKE countries\n",
    "    INCLUDING ALL\n",
    ");\n",
    "'''\n",
    "query_db(query).head()"
   ]
  },
  {
   "cell_type": "code",
   "execution_count": 12,
   "metadata": {},
   "outputs": [
    {
     "name": "stdout",
     "output_type": "stream",
     "text": [
      "CREATE TABLE dup_countries_wd AS (\n",
      "    SELECT *\n",
      "    FROM countries\n",
      ");\n",
      "\n",
      "PostgreSQL Error: relation \"dup_countries_wd\" already exists\n",
      "\n"
     ]
    },
    {
     "data": {
      "text/html": [
       "<div>\n",
       "<style scoped>\n",
       "    .dataframe tbody tr th:only-of-type {\n",
       "        vertical-align: middle;\n",
       "    }\n",
       "\n",
       "    .dataframe tbody tr th {\n",
       "        vertical-align: top;\n",
       "    }\n",
       "\n",
       "    .dataframe thead th {\n",
       "        text-align: right;\n",
       "    }\n",
       "</style>\n",
       "<table border=\"1\" class=\"dataframe\">\n",
       "  <thead>\n",
       "    <tr style=\"text-align: right;\">\n",
       "      <th></th>\n",
       "    </tr>\n",
       "  </thead>\n",
       "  <tbody>\n",
       "  </tbody>\n",
       "</table>\n",
       "</div>"
      ],
      "text/plain": [
       "Empty DataFrame\n",
       "Columns: []\n",
       "Index: []"
      ]
     },
     "execution_count": 12,
     "metadata": {},
     "output_type": "execute_result"
    }
   ],
   "source": [
    "# PostgreSQL Create Table\n",
    "# 4. Write a SQL statement to create a duplicate copy of\n",
    "# countries table including structure and data by name dup_countries.\n",
    "\n",
    "query = '''\\\n",
    "CREATE TABLE dup_countries_wd AS (\n",
    "    SELECT *\n",
    "    FROM countries\n",
    ");\n",
    "'''\n",
    "query_db(query).head()"
   ]
  },
  {
   "cell_type": "code",
   "execution_count": 8,
   "metadata": {},
   "outputs": [
    {
     "name": "stdout",
     "output_type": "stream",
     "text": [
      "CREATE TABLE countries_NNC (\n",
      "    COUNTRY_ID varchar(3) NOT NULL,\n",
      "    COUNTRY_NAME varchar(45) NOT NULL,\n",
      "    REGION_ID decimal(10,0)\n",
      ");\n",
      "\n"
     ]
    },
    {
     "data": {
      "text/html": [
       "<div>\n",
       "<style scoped>\n",
       "    .dataframe tbody tr th:only-of-type {\n",
       "        vertical-align: middle;\n",
       "    }\n",
       "\n",
       "    .dataframe tbody tr th {\n",
       "        vertical-align: top;\n",
       "    }\n",
       "\n",
       "    .dataframe thead th {\n",
       "        text-align: right;\n",
       "    }\n",
       "</style>\n",
       "<table border=\"1\" class=\"dataframe\">\n",
       "  <thead>\n",
       "    <tr style=\"text-align: right;\">\n",
       "      <th></th>\n",
       "    </tr>\n",
       "  </thead>\n",
       "  <tbody>\n",
       "  </tbody>\n",
       "</table>\n",
       "</div>"
      ],
      "text/plain": [
       "Empty DataFrame\n",
       "Columns: []\n",
       "Index: []"
      ]
     },
     "execution_count": 8,
     "metadata": {},
     "output_type": "execute_result"
    }
   ],
   "source": [
    "# PostgreSQL Create Table\n",
    "# 5. Write a SQL statement to create a table countries set a constraint NULL.\n",
    "\n",
    "query = '''\\\n",
    "CREATE TABLE countries_NNC (\n",
    "    COUNTRY_ID varchar(3) NOT NULL,\n",
    "    COUNTRY_NAME varchar(45) NOT NULL,\n",
    "    REGION_ID decimal(10,0)\n",
    ");\n",
    "'''\n",
    "query_db(query).head()"
   ]
  },
  {
   "cell_type": "code",
   "execution_count": 11,
   "metadata": {},
   "outputs": [
    {
     "name": "stdout",
     "output_type": "stream",
     "text": [
      "CREATE TABLE jobs (\n",
      "    job_id INT NOT NULL,\n",
      "    job_title varchar(45),\n",
      "    min_salary decimal(7,2),\n",
      "    max_salary decimal(7,2) CHECK(max_salary <= 25000)\n",
      ");\n",
      "\n"
     ]
    },
    {
     "data": {
      "text/html": [
       "<div>\n",
       "<style scoped>\n",
       "    .dataframe tbody tr th:only-of-type {\n",
       "        vertical-align: middle;\n",
       "    }\n",
       "\n",
       "    .dataframe tbody tr th {\n",
       "        vertical-align: top;\n",
       "    }\n",
       "\n",
       "    .dataframe thead th {\n",
       "        text-align: right;\n",
       "    }\n",
       "</style>\n",
       "<table border=\"1\" class=\"dataframe\">\n",
       "  <thead>\n",
       "    <tr style=\"text-align: right;\">\n",
       "      <th></th>\n",
       "    </tr>\n",
       "  </thead>\n",
       "  <tbody>\n",
       "  </tbody>\n",
       "</table>\n",
       "</div>"
      ],
      "text/plain": [
       "Empty DataFrame\n",
       "Columns: []\n",
       "Index: []"
      ]
     },
     "execution_count": 11,
     "metadata": {},
     "output_type": "execute_result"
    }
   ],
   "source": [
    "# PostgreSQL Create Table\n",
    "# 6. Write a SQL statement to create a table named jobs\n",
    "# including columns job_id, job_title, min_salary, max_salary\n",
    "# and check whether the max_salary amount exceeding the upper limit 25000.\n",
    "\n",
    "query = '''\\\n",
    "CREATE TABLE jobs (\n",
    "    job_id INT NOT NULL,\n",
    "    job_title varchar(45),\n",
    "    min_salary decimal(7,2),\n",
    "    max_salary decimal(7,2) CHECK(max_salary <= 25000)\n",
    ");\n",
    "'''\n",
    "query_db(query).head()"
   ]
  },
  {
   "cell_type": "markdown",
   "metadata": {},
   "source": [
    "# ------\n"
   ]
  },
  {
   "cell_type": "code",
   "execution_count": null,
   "metadata": {},
   "outputs": [],
   "source": [
    "# query = '''\\\n",
    "# INSERT INTO countries(COUNTRY_ID, COUNTRY_NAME, REGION_ID) VALUES(1, 'Germany', 2);\n",
    "# '''\n",
    "# query_db(query).head()"
   ]
  },
  {
   "cell_type": "code",
   "execution_count": null,
   "metadata": {},
   "outputs": [],
   "source": [
    "# PostgreSQL Create Table\n",
    "# 1. Write a SQL statement to create a simple table countries\n",
    "# including columns country_id,country_name and region_id.\n",
    "\n",
    "# query = '''\\\n",
    "# SELECT *\n",
    "# FROM countries;\n",
    "# '''\n",
    "# query_db(query).head()"
   ]
  }
 ],
 "metadata": {
  "kernelspec": {
   "display_name": "ml-mmb-2",
   "language": "python",
   "name": "python3"
  },
  "language_info": {
   "codemirror_mode": {
    "name": "ipython",
    "version": 3
   },
   "file_extension": ".py",
   "mimetype": "text/x-python",
   "name": "python",
   "nbconvert_exporter": "python",
   "pygments_lexer": "ipython3",
   "version": "3.1.undefined"
  }
 },
 "nbformat": 4,
 "nbformat_minor": 2
}
