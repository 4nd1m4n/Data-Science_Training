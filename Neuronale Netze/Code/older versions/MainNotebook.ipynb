{
 "cells": [
  {
   "cell_type": "code",
   "execution_count": 11,
   "metadata": {},
   "outputs": [],
   "source": [
    "# Import required libraries\n",
    "\n",
    "from dataclasses import dataclass\n",
    "\n",
    "import matplotlib.pyplot as plt\n",
    "import numpy as np\n",
    "import torch\n",
    "import torch.nn as nn\n",
    "import torch.optim as optim\n",
    "import torchvision\n",
    "from scipy.io import loadmat\n",
    "from torchvision.utils import make_grid\n",
    "from tqdm import tqdm"
   ]
  },
  {
   "cell_type": "code",
   "execution_count": 3,
   "metadata": {},
   "outputs": [],
   "source": [
    "# Create data types\n",
    "@dataclass\n",
    "class Dataset_SVHN:\n",
    "    \"\"\"\n",
    "    X: np.ndarray of shape (26032, 32, 32, 3) => (image_number, Y=row, X=column, RGB)\n",
    "        containing the 32x32 pixel3 color number images\n",
    "        \n",
    "    y: np.array of shape (26032, 1) => (image_number, int_label==>[0..9])\n",
    "        containing the labels (actual numbers) of the images\n",
    "    \n",
    "    \n",
    "    # The Street View House Numbers (SVHN) Dataset\n",
    "    \n",
    "    SVHN is a real-world image dataset for developing machine learning and object recognition algorithms with minimal\n",
    "    requirement on data preprocessing and formatting.\n",
    "    It can be seen as similar in flavor to MNIST (e.g., the images are of small cropped digits), but incorporates an\n",
    "    order of magnitude more labeled data (over 600,000 digit images) and comes from a significantly harder, unsolved,\n",
    "    real world problem (recognizing digits and numbers in natural scene images).\n",
    "    SVHN is obtained from house numbers in Google Street View images.\n",
    "    \"\"\"\n",
    "\n",
    "    # def __init__(self, X: np.ndarray, y: np.array):\n",
    "    #     self.X = X\n",
    "    #     self.y = y\n",
    "    \n",
    "    def __init__(self, X: np.ndarray, y: np.array):\n",
    "        self.X = X\n",
    "        self.y = y"
   ]
  },
  {
   "cell_type": "code",
   "execution_count": 4,
   "metadata": {},
   "outputs": [],
   "source": [
    "\n",
    "def load_data():\n",
    "    data_train = loadmat('train_32x32.mat')\n",
    "    data_test = loadmat('test_32x32.mat')\n",
    "\n",
    "    return (data_train, data_test)\n",
    "\n",
    "\n",
    "def shapeshift_input_data(X: np.ndarray):\n",
    "    # convert shape: (32, 32, 3, 26032) to: (26032, 32, 32, 3) => (image_number, Y=row, X=column, RGB)\n",
    "    return np.moveaxis(X, -1, 0)\n",
    "\n",
    "\n",
    "def prepare_data():\n",
    "    (train, test) = load_data()\n",
    "\n",
    "    shifted_train_X = shapeshift_input_data(train['X'])\n",
    "    shifted_test_X = shapeshift_input_data(test['X'])\n",
    "\n",
    "    train = Dataset_SVHN(shifted_train_X, train['y'])\n",
    "    test = Dataset_SVHN(shifted_test_X, test['y'])\n",
    "\n",
    "    return (train, test)\n",
    "\n",
    "\n",
    "(train, test) = prepare_data()"
   ]
  },
  {
   "cell_type": "code",
   "execution_count": 5,
   "metadata": {},
   "outputs": [
    {
     "data": {
      "image/png": "[encoded data removed]",
      "text/plain": [
       "<Figure size 640x480 with 1 Axes>"
      ]
     },
     "metadata": {},
     "output_type": "display_data"
    }
   ],
   "source": [
    "def plot_example_number():\n",
    "    plt.axis('off')\n",
    "    plt.imshow(train.X[0])\n",
    "    \n",
    "\n",
    "plot_example_number()\n"
   ]
  },
  {
   "cell_type": "code",
   "execution_count": 7,
   "metadata": {},
   "outputs": [
    {
     "name": "stdout",
     "output_type": "stream",
     "text": [
      "cuda\n"
     ]
    }
   ],
   "source": [
    "def set_compute_device():\n",
    "    device = torch.device(\"cuda\" if torch.cuda.is_available() else \"cpu\")\n",
    "    print(device)\n",
    "\n",
    "set_compute_device()"
   ]
  },
  {
   "cell_type": "code",
   "execution_count": 10,
   "metadata": {},
   "outputs": [
    {
     "data": {
      "text/plain": [
       "32"
      ]
     },
     "execution_count": 10,
     "metadata": {},
     "output_type": "execute_result"
    }
   ],
   "source": [
    "def configure_run():\n",
    "    return {\n",
    "        \"epoch_count\": 10,\n",
    "        # since there are classifications of 10 a multiple of that should hopefully always have roughly equal amounts of\n",
    "        # each classification in a batch size\n",
    "        \"batch_size\": 100\n",
    "    }\n",
    "\n",
    "config = configure_run()\n",
    "#config[\"batch_size\"]"
   ]
  },
  {
   "cell_type": "code",
   "execution_count": null,
   "metadata": {},
   "outputs": [],
   "source": [
    "print(train.X[0])\n",
    "\n",
    "def transformer():\n",
    "    # alias for readability\n",
    "    tf = torchvision.transforms\n",
    "    \n",
    "    transform = tf.Compose([\n",
    "        tf.ToTensor()\n",
    "    ])    \n",
    "    return transform\n",
    "\n",
    "transform = transformer()\n",
    "\n",
    "transformed_train_X = [transform(sample) for sample in train.X]\n",
    "transformed_test_X = [transform(sample) for sample in test.X]\n"
   ]
  },
  {
   "cell_type": "code",
   "execution_count": null,
   "metadata": {},
   "outputs": [],
   "source": [
    "# Use the `pin_memory` argument for better GPU performance\n",
    "loader_train = torch.utils.data.DataLoader(\n",
    "    transformed_train_X,\n",
    "    batch_size=config[\"batch_size\"],\n",
    "    shuffle=True,\n",
    "    num_workers=0,\n",
    "    pin_memory=True)\n",
    "\n",
    "loader_test = torch.utils.data.DataLoader(\n",
    "    transformed_test_X,\n",
    "    batch_size=config[\"batch_size\"],\n",
    "    shuffle=True,\n",
    "    num_workers=0,\n",
    "    pin_memory=True)"
   ]
  },
  {
   "cell_type": "code",
   "execution_count": null,
   "metadata": {},
   "outputs": [],
   "source": [
    "def show_batch():\n",
    "    for images, labels in dl:\n",
    "        fig, ax = plt.subplots(figsize=(12, 12))\n",
    "        ax.set_xticks([])\n",
    "        ax.set_yticks([])\n",
    "        ax.imshow(make_grid(images[:64], nrow=8).permute(1, 2, 0))\n",
    "        break\n",
    "\n",
    "\n",
    "show_batch(trainloader)"
   ]
  }
 ],
 "metadata": {
  "kernelspec": {
   "display_name": "env_tensorflow-24-02-11",
   "language": "python",
   "name": "python3"
  },
  "language_info": {
   "codemirror_mode": {
    "name": "ipython",
    "version": 3
   },
   "file_extension": ".py",
   "mimetype": "text/x-python",
   "name": "python",
   "nbconvert_exporter": "python",
   "pygments_lexer": "ipython3",
   "version": "3.8.18"
  }
 },
 "nbformat": 4,
 "nbformat_minor": 2
}
