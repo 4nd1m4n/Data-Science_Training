{
 "cells": [
  {
   "cell_type": "code",
   "execution_count": 1,
   "metadata": {},
   "outputs": [],
   "source": [
    "# HOW TO USE WITH ROCM:\n",
    "#\n",
    "# How to get this working with AMD ROCm:\n",
    "#\n",
    "# create conda environment with all required libraries\n",
    "# $ conda create -n env_torch-rocm-24-02-11 ipykernel numpy matplotlib tqdm scipy -c conda-forge -y\n",
    "#\n",
    "# activate created conda environment to allow installation of further packages with pip\n",
    "# $ conda activate env_torch-rocm-24-02-11\n",
    "#\n",
    "# install the ROCm versions of torch via pip and the rocm repository\n",
    "# $ pip install torch torchvision torchaudio --index-url https://download.pytorch.org/whl/rocm5.7\n",
    "#\n",
    "# export the override variable to make torch use this rocm version\n",
    "# for my 780m chip it does not have a precompiled one but this one has the same instruction set so it works!\n",
    "# - $ export HSA_OVERRIDE_GFX_VERSION=11.0.0\n",
    "# (in this script there is an export for this environment variable included so this can be skipped)\n",
    "#\n",
    "# start vs code in the project directory\n",
    "# - $ code .\n",
    "#\n",
    "# With vscode jupyter extensions one can now run this script very similar to spyder ide"
   ]
  },
  {
   "cell_type": "code",
   "execution_count": 2,
   "metadata": {},
   "outputs": [],
   "source": [
    "# Import required libraries\n",
    "\n",
    "import os\n",
    "from collections import Counter\n",
    "from pprint import pprint\n",
    "\n",
    "import matplotlib.pyplot as plt\n",
    "import numpy as np\n",
    "import torch\n",
    "import torch.nn as nn\n",
    "import torch.optim as optim\n",
    "import torchvision\n",
    "from scipy.io import loadmat\n",
    "from torch.utils.data import Dataset\n",
    "from torchvision.utils import make_grid\n",
    "from tqdm import tqdm"
   ]
  },
  {
   "cell_type": "code",
   "execution_count": 3,
   "metadata": {},
   "outputs": [
    {
     "name": "stdout",
     "output_type": "stream",
     "text": [
      "Set environment variable for current python environment:\n",
      "HSA_OVERRIDE_GFX_VERSION=11.0.0\n",
      "Use computing device: cuda\n"
     ]
    }
   ],
   "source": [
    "# Configure run\n",
    "\n",
    "# Set 780M GPU \"cuda instruction set\" environment variable\n",
    "HSA_OVERRIDE = \"HSA_OVERRIDE_GFX_VERSION\"\n",
    "GFX_VERSION = \"11.0.0\"\n",
    "os.environ[HSA_OVERRIDE] = GFX_VERSION\n",
    "print('\\n'.join([\n",
    "    f'Set environment variable for current python environment:',\n",
    "    f'{HSA_OVERRIDE}={GFX_VERSION}']))\n",
    "\n",
    "\n",
    "def set_compute_device():\n",
    "    return torch.device(\"cuda\" if torch.cuda.is_available() else \"cpu\")\n",
    "\n",
    "\n",
    "device = set_compute_device()\n",
    "print(f'Use computing device: {device}')\n",
    "\n",
    "\n",
    "def configure_run():\n",
    "    return {\n",
    "        \"epoch_count\": 200,\n",
    "        # since there are classifications of 10 a multiple of that should hopefully always have roughly equal amounts of\n",
    "        # each classification in a batch size\n",
    "        \"batch_size\": 10\n",
    "    }\n",
    "\n",
    "\n",
    "config = configure_run()"
   ]
  },
  {
   "cell_type": "code",
   "execution_count": 4,
   "metadata": {},
   "outputs": [],
   "source": [
    "# Data preparations\n",
    "\n",
    "def load_data():\n",
    "    data_train = loadmat('train_32x32.mat')\n",
    "    data_test = loadmat('test_32x32.mat')\n",
    "\n",
    "    return (data_train, data_test)\n",
    "\n",
    "\n",
    "def shapeshift_input_data(X: np.ndarray) -> np.ndarray:\n",
    "    # convert shape: (32, 32, 3, 26032) to: (26032, 32, 32, 3) => (image_number, Y=row, X=column, RGB)\n",
    "    return np.moveaxis(X, -1, 0)\n",
    "\n",
    "\n",
    "def fix_labels(y: np.ndarray) -> np.ndarray:\n",
    "    \"\"\"\n",
    "    The SVHN MNIST-like dataset describes the target labels as follows:\n",
    "    10 classes, 1 for each digit. Digit '1' has label 1, '9' has label 9 and '0' has label 10.\n",
    "    Leaving the 10 in will result in a possible confusion when the dataset is validated later.\n",
    "    Thus the 10 is renamed to 0.\n",
    "    \"\"\"\n",
    "    return np.array([0 if yi == 10\n",
    "                     else yi\n",
    "                     for yi in y])\n",
    "\n",
    "\n",
    "def zip_input_target(X: np.ndarray, y: np.ndarray):\n",
    "    return list(zip(X, y))\n",
    "\n",
    "\n",
    "# TODO: Can i prepare the data so that each batch consists of a set of each number? -> batch 1: [0, 1, 2, 3, 4, 5, 6, 7,\n",
    "# 8, 9] in (img, label) of course"
   ]
  },
  {
   "cell_type": "code",
   "execution_count": 5,
   "metadata": {},
   "outputs": [
    {
     "name": "stdout",
     "output_type": "stream",
     "text": [
      "Digits and their amount in the training dataset:\n",
      "{0: 4948,\n",
      " 1: 13861,\n",
      " 2: 10585,\n",
      " 3: 8497,\n",
      " 4: 7458,\n",
      " 5: 6882,\n",
      " 6: 5727,\n",
      " 7: 5595,\n",
      " 8: 5045,\n",
      " 9: 4659}\n",
      "Digits and their amount in the testing dataset:\n",
      "{0: 1744,\n",
      " 1: 5099,\n",
      " 2: 4149,\n",
      " 3: 2882,\n",
      " 4: 2523,\n",
      " 5: 2384,\n",
      " 6: 1977,\n",
      " 7: 2019,\n",
      " 8: 1660,\n",
      " 9: 1595}\n",
      "Length of train dataset: 13861\n",
      "Length of test dataset: 5099\n"
     ]
    }
   ],
   "source": [
    "# \"Advanced\" Custom DataLoader - data preparation\n",
    "\n",
    "def transformer():\n",
    "    # alias for readability\n",
    "    tf = torchvision.transforms\n",
    "\n",
    "    transform = tf.Compose([\n",
    "        tf.ToTensor()\n",
    "    ])\n",
    "    return transform\n",
    "\n",
    "\n",
    "transform = transformer()\n",
    "\n",
    "\n",
    "def prepare_data():\n",
    "    (train, test) = load_data()\n",
    "\n",
    "    shifted_train_X = shapeshift_input_data(train['X'])\n",
    "    shifted_test_X = shapeshift_input_data(test['X'])\n",
    "\n",
    "    fixed_train_y = fix_labels(train['y'].flat)\n",
    "    fixed_test_y = fix_labels(test['y'].flat)\n",
    "\n",
    "    print('Digits and their amount in the training dataset:')\n",
    "    pprint(dict(sorted(Counter(fixed_train_y).items())))\n",
    "\n",
    "    print('Digits and their amount in the testing dataset:')\n",
    "    pprint(dict(sorted(Counter(fixed_test_y).items())))\n",
    "\n",
    "    return ((shifted_train_X, fixed_train_y),\n",
    "            (shifted_test_X, fixed_test_y))\n",
    "\n",
    "\n",
    "((train_X, train_y),\n",
    " (test_X, test_y)) = prepare_data()\n",
    "\n",
    "\n",
    "def create_label_index_dict(labels):\n",
    "    label_index_dict = {\n",
    "        digit: [index_in_labels\n",
    "                for index_in_labels, label in enumerate(labels)\n",
    "                if label == digit]\n",
    "        for digit in range(10)\n",
    "    }\n",
    "    return label_index_dict\n",
    "\n",
    "\n",
    "class DigitsDataset(Dataset):\n",
    "    def __init__(self, digit_imgs_X, target_labels_y, transform=None):\n",
    "        self.digit_imgs_X = digit_imgs_X\n",
    "        self.target_labels_y = target_labels_y\n",
    "        self.transform = transform\n",
    "\n",
    "        self.label_index_dict = create_label_index_dict(self.target_labels_y)\n",
    "        # holds \"pointer\" to each labels index advancement\n",
    "        self.label_index_itaration = [0] * 10\n",
    "\n",
    "    def __len__(self):\n",
    "        max_length = max(\n",
    "            len(label_indicies)\n",
    "            for label_indicies in self.label_index_dict.values())\n",
    "        return max_length\n",
    "\n",
    "    def __getitem__(self, index):\n",
    "        digit = index % 10\n",
    "\n",
    "        # get current digits index iteration\n",
    "        index_of_digit_iteration = self.label_index_itaration[digit]\n",
    "\n",
    "        # advance iterator\n",
    "        self.label_index_itaration[digit] += 1\n",
    "        # if iterator advanced out of digit indices arrays bounds reset it to zero\n",
    "        if self.label_index_itaration[digit] >= len(self.label_index_dict[digit]):\n",
    "            self.label_index_itaration[digit] = 0\n",
    "\n",
    "        index_of_digit_in_data = self.label_index_dict[digit][index_of_digit_iteration]\n",
    "\n",
    "        sample = self.digit_imgs_X[index_of_digit_in_data]\n",
    "        target = self.target_labels_y[index_of_digit_in_data]\n",
    "\n",
    "        if self.transform:\n",
    "            sample = self.transform(sample)\n",
    "\n",
    "        return sample, target\n",
    "\n",
    "\n",
    "dataset_train = DigitsDataset(train_X,\n",
    "                              train_y,\n",
    "                              transform=transformer())\n",
    "dataset_test = DigitsDataset(test_X,\n",
    "                             test_y,\n",
    "                             transform=transformer())\n",
    "\n",
    "\n",
    "print(f'Length of train dataset: {dataset_train.__len__()}')\n",
    "print(f'Length of test dataset: {dataset_test.__len__()}')\n",
    "\n",
    "\n",
    "_tud = torch.utils.data\n",
    "loader_train = _tud.DataLoader(dataset_train,\n",
    "                               batch_size=config[\"batch_size\"],\n",
    "                               shuffle=False)\n",
    "loader_test = _tud.DataLoader(dataset_test,\n",
    "                              batch_size=config[\"batch_size\"],\n",
    "                              shuffle=False)\n",
    "\n",
    "\n",
    "#"
   ]
  },
  {
   "cell_type": "code",
   "execution_count": 6,
   "metadata": {},
   "outputs": [
    {
     "data": {
      "image/png": "[encoded data removed]",
      "text/plain": [
       "<Figure size 1200x1200 with 1 Axes>"
      ]
     },
     "metadata": {},
     "output_type": "display_data"
    }
   ],
   "source": [
    "def show_batch(data_loader):\n",
    "    for images, _ in data_loader:\n",
    "        _, ax = plt.subplots(figsize=(12, 12))\n",
    "        ax.set_xticks([])\n",
    "        ax.set_yticks([])\n",
    "        ax.imshow(\n",
    "            make_grid(images[:config[\"batch_size\"]], nrow=8).permute(1, 2, 0))\n",
    "        break\n",
    "\n",
    "\n",
    "show_batch(loader_train)\n",
    "\n",
    "#"
   ]
  },
  {
   "cell_type": "code",
   "execution_count": 7,
   "metadata": {},
   "outputs": [
    {
     "name": "stdout",
     "output_type": "stream",
     "text": [
      "CNNModel(\n",
      "  (conv1): Conv2d(3, 32, kernel_size=(3, 3), stride=(1, 1), padding=(1, 1))\n",
      "  (act1): ReLU()\n",
      "  (drop1): Dropout(p=0.3, inplace=False)\n",
      "  (conv2): Conv2d(32, 32, kernel_size=(3, 3), stride=(1, 1), padding=(1, 1))\n",
      "  (act2): ReLU()\n",
      "  (pool2): MaxPool2d(kernel_size=(2, 2), stride=(2, 2), padding=0, dilation=1, ceil_mode=False)\n",
      "  (flat): Flatten(start_dim=1, end_dim=-1)\n",
      "  (fc3): Linear(in_features=8192, out_features=512, bias=True)\n",
      "  (act3): ReLU()\n",
      "  (drop3): Dropout(p=0.2, inplace=False)\n",
      "  (fc4): Linear(in_features=512, out_features=128, bias=True)\n",
      "  (act4): ReLU()\n",
      "  (drop4): Dropout(p=0.1, inplace=False)\n",
      "  (fc5): Linear(in_features=128, out_features=32, bias=True)\n",
      "  (act5): ReLU()\n",
      "  (drop5): Dropout(p=0.1, inplace=False)\n",
      "  (fc6): Linear(in_features=32, out_features=10, bias=True)\n",
      "  (act6): LogSoftmax(dim=None)\n",
      ")\n"
     ]
    }
   ],
   "source": [
    "class CNNModel(nn.Module):\n",
    "    def __init__(self):\n",
    "        super().__init__()\n",
    "        self.conv1 = nn.Conv2d(3, 32, kernel_size=(3, 3), stride=1, padding=1)\n",
    "        self.act1 = nn.ReLU()\n",
    "        self.drop1 = nn.Dropout(0.3)\n",
    "\n",
    "        self.conv2 = nn.Conv2d(32, 32, kernel_size=(3, 3), stride=1, padding=1)\n",
    "        self.act2 = nn.ReLU()\n",
    "        self.pool2 = nn.MaxPool2d(kernel_size=(2, 2))\n",
    "\n",
    "        self.flat = nn.Flatten()\n",
    "\n",
    "        self.fc3 = nn.Linear(8192, 512)\n",
    "        self.act3 = nn.ReLU()\n",
    "        self.drop3 = nn.Dropout(0.2)\n",
    "\n",
    "        self.fc4 = nn.Linear(512, 128)\n",
    "        self.act4 = nn.ReLU()\n",
    "        self.drop4 = nn.Dropout(0.1)\n",
    "\n",
    "        self.fc5 = nn.Linear(128, 32)\n",
    "        self.act5 = nn.ReLU()\n",
    "        self.drop5 = nn.Dropout(0.1)\n",
    "\n",
    "        self.fc6 = nn.Linear(32, 10)\n",
    "        self.act6 = nn.LogSoftmax()\n",
    "\n",
    "    def forward(self, x):\n",
    "        # input 3x32x32, output 32x32x32\n",
    "        x = self.act1(self.conv1(x))\n",
    "        x = self.drop1(x)\n",
    "        # input 32x32x32, output 32x32x32\n",
    "        x = self.act2(self.conv2(x))\n",
    "        # input 32x32x32, output 32x16x16\n",
    "        x = self.pool2(x)\n",
    "        # input 32x16x16, output 8192\n",
    "        x = self.flat(x)\n",
    "        # input 8192, output 512\n",
    "        x = self.act3(self.fc3(x))\n",
    "        x = self.drop3(x)\n",
    "        # input 512, output 128\n",
    "        x = self.act4(self.fc4(x))\n",
    "        x = self.drop4(x)\n",
    "        # input 128, output 32\n",
    "        x = self.act5(self.fc5(x))\n",
    "        x = self.drop5(x)\n",
    "        # input 32, output 10\n",
    "        x = self.act6(self.fc6(x))\n",
    "        return x\n",
    "\n",
    "\n",
    "# create model instance and move it to the GPU\n",
    "model = CNNModel().to(device)\n",
    "print(model)\n",
    "\n",
    "# define loss function\n",
    "loss_fn = nn.CrossEntropyLoss()\n",
    "# define optimizer\n",
    "# uncomment one of the two options\n",
    "optimizer = optim.SGD(model.parameters(), lr=0.001, momentum=0.9)\n",
    "# optimizer = optim.Adam(model.parameters(), lr=0.001)"
   ]
  },
  {
   "cell_type": "code",
   "execution_count": 8,
   "metadata": {},
   "outputs": [],
   "source": [
    "# Out of model accuracy\n",
    "\n",
    "def evaluate(model, validation_loader):\n",
    "    correct = 0\n",
    "    total = 0\n",
    "\n",
    "    # Set the model to evaluation mode\n",
    "    model.eval()\n",
    "\n",
    "    # Turn off gradients for evaluation\n",
    "    with torch.no_grad():\n",
    "\n",
    "        for images, labels in validation_loader:\n",
    "            # Move to device\n",
    "            images, labels = images.to(device), labels.to(device)\n",
    "\n",
    "            # Forward pass\n",
    "            output = model(images)\n",
    "\n",
    "            # Get the index of the max log-probability\n",
    "            _, predicted_test = torch.max(output.data,  1)\n",
    "\n",
    "            total += labels.size(0)\n",
    "            correct += (predicted_test == labels).sum().item()\n",
    "\n",
    "    accuracy = 100 * correct / total\n",
    "    return accuracy"
   ]
  },
  {
   "cell_type": "code",
   "execution_count": 9,
   "metadata": {},
   "outputs": [
    {
     "name": "stderr",
     "output_type": "stream",
     "text": [
      "0it [00:00, ?it/s]/home/andiman/.conda/envs/env_torch-rocm-24-02-11/lib/python3.8/site-packages/torch/nn/modules/module.py:1511: UserWarning: Implicit dimension choice for log_softmax has been deprecated. Change the call to include dim=X as an argument.\n",
      "  return self._call_impl(*args, **kwargs)\n",
      "1387it [00:08, 155.63it/s]\n"
     ]
    },
    {
     "name": "stdout",
     "output_type": "stream",
     "text": [
      "\n",
      "Epoch 1:\n",
      "  Average Training Loss: 2.30  \n",
      "  Training Accuracy: 10.02  %\n",
      "  Testing  Accuracy: 10.20  %\n"
     ]
    },
    {
     "name": "stderr",
     "output_type": "stream",
     "text": [
      "1387it [00:08, 162.11it/s]\n"
     ]
    },
    {
     "name": "stdout",
     "output_type": "stream",
     "text": [
      "\n",
      "Epoch 2:\n",
      "  Average Training Loss: 2.30  \n",
      "  Training Accuracy: 9.72   %\n",
      "  Testing  Accuracy: 10.22  %\n"
     ]
    },
    {
     "name": "stderr",
     "output_type": "stream",
     "text": [
      "1387it [00:08, 160.15it/s]\n"
     ]
    },
    {
     "name": "stdout",
     "output_type": "stream",
     "text": [
      "\n",
      "Epoch 3:\n",
      "  Average Training Loss: 2.30  \n",
      "  Training Accuracy: 10.38  %\n",
      "  Testing  Accuracy: 10.14  %\n"
     ]
    },
    {
     "name": "stderr",
     "output_type": "stream",
     "text": [
      "1387it [00:08, 161.06it/s]\n"
     ]
    },
    {
     "name": "stdout",
     "output_type": "stream",
     "text": [
      "\n",
      "Epoch 4:\n",
      "  Average Training Loss: 2.30  \n",
      "  Training Accuracy: 10.20  %\n",
      "  Testing  Accuracy: 9.98   %\n"
     ]
    },
    {
     "name": "stderr",
     "output_type": "stream",
     "text": [
      "1387it [00:08, 162.99it/s]\n"
     ]
    },
    {
     "name": "stdout",
     "output_type": "stream",
     "text": [
      "\n",
      "Epoch 5:\n",
      "  Average Training Loss: 2.30  \n",
      "  Training Accuracy: 10.85  %\n",
      "  Testing  Accuracy: 10.28  %\n"
     ]
    },
    {
     "name": "stderr",
     "output_type": "stream",
     "text": [
      "1387it [00:08, 162.02it/s]\n"
     ]
    },
    {
     "name": "stdout",
     "output_type": "stream",
     "text": [
      "\n",
      "Epoch 6:\n",
      "  Average Training Loss: 2.30  \n",
      "  Training Accuracy: 10.58  %\n",
      "  Testing  Accuracy: 10.57  %\n"
     ]
    },
    {
     "name": "stderr",
     "output_type": "stream",
     "text": [
      "1387it [00:08, 162.18it/s]\n"
     ]
    },
    {
     "name": "stdout",
     "output_type": "stream",
     "text": [
      "\n",
      "Epoch 7:\n",
      "  Average Training Loss: 2.30  \n",
      "  Training Accuracy: 10.18  %\n",
      "  Testing  Accuracy: 11.81  %\n"
     ]
    },
    {
     "name": "stderr",
     "output_type": "stream",
     "text": [
      "1387it [00:08, 163.26it/s]\n"
     ]
    },
    {
     "name": "stdout",
     "output_type": "stream",
     "text": [
      "\n",
      "Epoch 8:\n",
      "  Average Training Loss: 2.30  \n",
      "  Training Accuracy: 10.81  %\n",
      "  Testing  Accuracy: 12.55  %\n"
     ]
    },
    {
     "name": "stderr",
     "output_type": "stream",
     "text": [
      "1387it [00:08, 163.45it/s]\n"
     ]
    },
    {
     "name": "stdout",
     "output_type": "stream",
     "text": [
      "\n",
      "Epoch 9:\n",
      "  Average Training Loss: 2.30  \n",
      "  Training Accuracy: 10.36  %\n",
      "  Testing  Accuracy: 10.88  %\n"
     ]
    },
    {
     "name": "stderr",
     "output_type": "stream",
     "text": [
      "1387it [00:08, 163.17it/s]\n"
     ]
    },
    {
     "name": "stdout",
     "output_type": "stream",
     "text": [
      "\n",
      "Epoch 10:\n",
      "  Average Training Loss: 2.30  \n",
      "  Training Accuracy: 11.46  %\n",
      "  Testing  Accuracy: 11.96  %\n"
     ]
    },
    {
     "name": "stderr",
     "output_type": "stream",
     "text": [
      "1387it [00:07, 182.60it/s]\n"
     ]
    },
    {
     "name": "stdout",
     "output_type": "stream",
     "text": [
      "\n",
      "Epoch 11:\n",
      "  Average Training Loss: 2.30  \n",
      "  Training Accuracy: 11.47  %\n",
      "  Testing  Accuracy: 13.24  %\n"
     ]
    },
    {
     "name": "stderr",
     "output_type": "stream",
     "text": [
      "1387it [00:07, 191.60it/s]\n"
     ]
    },
    {
     "name": "stdout",
     "output_type": "stream",
     "text": [
      "\n",
      "Epoch 12:\n",
      "  Average Training Loss: 2.30  \n",
      "  Training Accuracy: 12.63  %\n",
      "  Testing  Accuracy: 13.67  %\n"
     ]
    },
    {
     "name": "stderr",
     "output_type": "stream",
     "text": [
      "1387it [00:07, 193.56it/s]\n"
     ]
    },
    {
     "name": "stdout",
     "output_type": "stream",
     "text": [
      "\n",
      "Epoch 13:\n",
      "  Average Training Loss: 2.29  \n",
      "  Training Accuracy: 14.28  %\n",
      "  Testing  Accuracy: 16.16  %\n"
     ]
    },
    {
     "name": "stderr",
     "output_type": "stream",
     "text": [
      "1387it [00:07, 190.59it/s]\n"
     ]
    },
    {
     "name": "stdout",
     "output_type": "stream",
     "text": [
      "\n",
      "Epoch 14:\n",
      "  Average Training Loss: 2.22  \n",
      "  Training Accuracy: 17.75  %\n",
      "  Testing  Accuracy: 20.85  %\n"
     ]
    },
    {
     "name": "stderr",
     "output_type": "stream",
     "text": [
      "1387it [00:07, 190.71it/s]\n"
     ]
    },
    {
     "name": "stdout",
     "output_type": "stream",
     "text": [
      "\n",
      "Epoch 15:\n",
      "  Average Training Loss: 1.98  \n",
      "  Training Accuracy: 27.60  %\n",
      "  Testing  Accuracy: 33.97  %\n"
     ]
    },
    {
     "name": "stderr",
     "output_type": "stream",
     "text": [
      "1387it [00:07, 189.44it/s]\n"
     ]
    },
    {
     "name": "stdout",
     "output_type": "stream",
     "text": [
      "\n",
      "Epoch 16:\n",
      "  Average Training Loss: 1.79  \n",
      "  Training Accuracy: 36.53  %\n",
      "  Testing  Accuracy: 41.85  %\n"
     ]
    },
    {
     "name": "stderr",
     "output_type": "stream",
     "text": [
      "1387it [00:07, 190.04it/s]\n"
     ]
    },
    {
     "name": "stdout",
     "output_type": "stream",
     "text": [
      "\n",
      "Epoch 17:\n",
      "  Average Training Loss: 1.63  \n",
      "  Training Accuracy: 43.02  %\n",
      "  Testing  Accuracy: 47.81  %\n"
     ]
    },
    {
     "name": "stderr",
     "output_type": "stream",
     "text": [
      "1387it [00:07, 191.14it/s]\n"
     ]
    },
    {
     "name": "stdout",
     "output_type": "stream",
     "text": [
      "\n",
      "Epoch 18:\n",
      "  Average Training Loss: 1.54  \n",
      "  Training Accuracy: 46.98  %\n",
      "  Testing  Accuracy: 48.79  %\n"
     ]
    },
    {
     "name": "stderr",
     "output_type": "stream",
     "text": [
      "1387it [00:07, 189.03it/s]\n"
     ]
    },
    {
     "name": "stdout",
     "output_type": "stream",
     "text": [
      "\n",
      "Epoch 19:\n",
      "  Average Training Loss: 1.46  \n",
      "  Training Accuracy: 50.62  %\n",
      "  Testing  Accuracy: 49.01  %\n"
     ]
    },
    {
     "name": "stderr",
     "output_type": "stream",
     "text": [
      "1387it [00:07, 189.14it/s]\n"
     ]
    },
    {
     "name": "stdout",
     "output_type": "stream",
     "text": [
      "\n",
      "Epoch 20:\n",
      "  Average Training Loss: 1.40  \n",
      "  Training Accuracy: 54.05  %\n",
      "  Testing  Accuracy: 56.03  %\n"
     ]
    },
    {
     "name": "stderr",
     "output_type": "stream",
     "text": [
      "1387it [00:07, 192.51it/s]\n"
     ]
    },
    {
     "name": "stdout",
     "output_type": "stream",
     "text": [
      "\n",
      "Epoch 21:\n",
      "  Average Training Loss: 1.31  \n",
      "  Training Accuracy: 56.38  %\n",
      "  Testing  Accuracy: 59.13  %\n"
     ]
    },
    {
     "name": "stderr",
     "output_type": "stream",
     "text": [
      "1387it [00:07, 189.42it/s]\n"
     ]
    },
    {
     "name": "stdout",
     "output_type": "stream",
     "text": [
      "\n",
      "Epoch 22:\n",
      "  Average Training Loss: 1.28  \n",
      "  Training Accuracy: 58.27  %\n",
      "  Testing  Accuracy: 59.72  %\n"
     ]
    },
    {
     "name": "stderr",
     "output_type": "stream",
     "text": [
      "1387it [00:07, 192.83it/s]\n"
     ]
    },
    {
     "name": "stdout",
     "output_type": "stream",
     "text": [
      "\n",
      "Epoch 23:\n",
      "  Average Training Loss: 1.21  \n",
      "  Training Accuracy: 60.68  %\n",
      "  Testing  Accuracy: 60.19  %\n"
     ]
    },
    {
     "name": "stderr",
     "output_type": "stream",
     "text": [
      "1387it [00:07, 185.13it/s]\n"
     ]
    },
    {
     "name": "stdout",
     "output_type": "stream",
     "text": [
      "\n",
      "Epoch 24:\n",
      "  Average Training Loss: 1.18  \n",
      "  Training Accuracy: 62.26  %\n",
      "  Testing  Accuracy: 64.99  %\n"
     ]
    },
    {
     "name": "stderr",
     "output_type": "stream",
     "text": [
      "1387it [00:07, 193.05it/s]\n"
     ]
    },
    {
     "name": "stdout",
     "output_type": "stream",
     "text": [
      "\n",
      "Epoch 25:\n",
      "  Average Training Loss: 1.11  \n",
      "  Training Accuracy: 64.57  %\n",
      "  Testing  Accuracy: 66.31  %\n"
     ]
    },
    {
     "name": "stderr",
     "output_type": "stream",
     "text": [
      "1387it [00:07, 194.10it/s]\n"
     ]
    },
    {
     "name": "stdout",
     "output_type": "stream",
     "text": [
      "\n",
      "Epoch 26:\n",
      "  Average Training Loss: 1.08  \n",
      "  Training Accuracy: 65.72  %\n",
      "  Testing  Accuracy: 67.19  %\n"
     ]
    },
    {
     "name": "stderr",
     "output_type": "stream",
     "text": [
      "1387it [00:07, 194.05it/s]\n"
     ]
    },
    {
     "name": "stdout",
     "output_type": "stream",
     "text": [
      "\n",
      "Epoch 27:\n",
      "  Average Training Loss: 1.02  \n",
      "  Training Accuracy: 67.30  %\n",
      "  Testing  Accuracy: 68.48  %\n"
     ]
    },
    {
     "name": "stderr",
     "output_type": "stream",
     "text": [
      "1387it [00:07, 194.95it/s]\n"
     ]
    },
    {
     "name": "stdout",
     "output_type": "stream",
     "text": [
      "\n",
      "Epoch 28:\n",
      "  Average Training Loss: 0.99  \n",
      "  Training Accuracy: 68.32  %\n",
      "  Testing  Accuracy: 68.78  %\n"
     ]
    },
    {
     "name": "stderr",
     "output_type": "stream",
     "text": [
      "1387it [00:07, 194.02it/s]\n"
     ]
    },
    {
     "name": "stdout",
     "output_type": "stream",
     "text": [
      "\n",
      "Epoch 29:\n",
      "  Average Training Loss: 0.94  \n",
      "  Training Accuracy: 69.92  %\n",
      "  Testing  Accuracy: 71.70  %\n"
     ]
    },
    {
     "name": "stderr",
     "output_type": "stream",
     "text": [
      "1387it [00:07, 193.73it/s]\n"
     ]
    },
    {
     "name": "stdout",
     "output_type": "stream",
     "text": [
      "\n",
      "Epoch 30:\n",
      "  Average Training Loss: 0.90  \n",
      "  Training Accuracy: 71.90  %\n",
      "  Testing  Accuracy: 73.21  %\n"
     ]
    },
    {
     "name": "stderr",
     "output_type": "stream",
     "text": [
      "1387it [00:07, 192.70it/s]\n"
     ]
    },
    {
     "name": "stdout",
     "output_type": "stream",
     "text": [
      "\n",
      "Epoch 31:\n",
      "  Average Training Loss: 0.84  \n",
      "  Training Accuracy: 73.65  %\n",
      "  Testing  Accuracy: 73.48  %\n"
     ]
    },
    {
     "name": "stderr",
     "output_type": "stream",
     "text": [
      "1387it [00:07, 196.12it/s]\n"
     ]
    },
    {
     "name": "stdout",
     "output_type": "stream",
     "text": [
      "\n",
      "Epoch 32:\n",
      "  Average Training Loss: 0.82  \n",
      "  Training Accuracy: 74.36  %\n",
      "  Testing  Accuracy: 75.72  %\n"
     ]
    },
    {
     "name": "stderr",
     "output_type": "stream",
     "text": [
      "1387it [00:07, 196.08it/s]\n"
     ]
    },
    {
     "name": "stdout",
     "output_type": "stream",
     "text": [
      "\n",
      "Epoch 33:\n",
      "  Average Training Loss: 0.77  \n",
      "  Training Accuracy: 76.11  %\n",
      "  Testing  Accuracy: 76.03  %\n"
     ]
    },
    {
     "name": "stderr",
     "output_type": "stream",
     "text": [
      "1387it [00:06, 198.15it/s]\n"
     ]
    },
    {
     "name": "stdout",
     "output_type": "stream",
     "text": [
      "\n",
      "Epoch 34:\n",
      "  Average Training Loss: 0.73  \n",
      "  Training Accuracy: 77.61  %\n",
      "  Testing  Accuracy: 77.78  %\n"
     ]
    },
    {
     "name": "stderr",
     "output_type": "stream",
     "text": [
      "1387it [00:07, 196.35it/s]\n"
     ]
    },
    {
     "name": "stdout",
     "output_type": "stream",
     "text": [
      "\n",
      "Epoch 35:\n",
      "  Average Training Loss: 0.68  \n",
      "  Training Accuracy: 78.65  %\n",
      "  Testing  Accuracy: 78.64  %\n"
     ]
    },
    {
     "name": "stderr",
     "output_type": "stream",
     "text": [
      "1387it [00:07, 197.21it/s]\n"
     ]
    },
    {
     "name": "stdout",
     "output_type": "stream",
     "text": [
      "\n",
      "Epoch 36:\n",
      "  Average Training Loss: 0.66  \n",
      "  Training Accuracy: 79.57  %\n",
      "  Testing  Accuracy: 80.11  %\n"
     ]
    },
    {
     "name": "stderr",
     "output_type": "stream",
     "text": [
      "1387it [00:07, 195.12it/s]\n"
     ]
    },
    {
     "name": "stdout",
     "output_type": "stream",
     "text": [
      "\n",
      "Epoch 37:\n",
      "  Average Training Loss: 0.63  \n",
      "  Training Accuracy: 80.84  %\n",
      "  Testing  Accuracy: 80.70  %\n"
     ]
    },
    {
     "name": "stderr",
     "output_type": "stream",
     "text": [
      "1387it [00:06, 198.36it/s]\n"
     ]
    },
    {
     "name": "stdout",
     "output_type": "stream",
     "text": [
      "\n",
      "Epoch 38:\n",
      "  Average Training Loss: 0.60  \n",
      "  Training Accuracy: 81.34  %\n",
      "  Testing  Accuracy: 80.92  %\n"
     ]
    },
    {
     "name": "stderr",
     "output_type": "stream",
     "text": [
      "1387it [00:07, 196.69it/s]\n"
     ]
    },
    {
     "name": "stdout",
     "output_type": "stream",
     "text": [
      "\n",
      "Epoch 39:\n",
      "  Average Training Loss: 0.58  \n",
      "  Training Accuracy: 82.17  %\n",
      "  Testing  Accuracy: 82.51  %\n"
     ]
    },
    {
     "name": "stderr",
     "output_type": "stream",
     "text": [
      "1387it [00:07, 196.60it/s]\n"
     ]
    },
    {
     "name": "stdout",
     "output_type": "stream",
     "text": [
      "\n",
      "Epoch 40:\n",
      "  Average Training Loss: 0.56  \n",
      "  Training Accuracy: 82.71  %\n",
      "  Testing  Accuracy: 83.76  %\n"
     ]
    },
    {
     "name": "stderr",
     "output_type": "stream",
     "text": [
      "1387it [00:07, 188.47it/s]\n"
     ]
    },
    {
     "name": "stdout",
     "output_type": "stream",
     "text": [
      "\n",
      "Epoch 41:\n",
      "  Average Training Loss: 0.52  \n",
      "  Training Accuracy: 84.00  %\n",
      "  Testing  Accuracy: 82.57  %\n"
     ]
    },
    {
     "name": "stderr",
     "output_type": "stream",
     "text": [
      "1387it [00:07, 190.25it/s]\n"
     ]
    },
    {
     "name": "stdout",
     "output_type": "stream",
     "text": [
      "\n",
      "Epoch 42:\n",
      "  Average Training Loss: 0.52  \n",
      "  Training Accuracy: 84.09  %\n",
      "  Testing  Accuracy: 83.60  %\n"
     ]
    },
    {
     "name": "stderr",
     "output_type": "stream",
     "text": [
      "1387it [00:07, 188.57it/s]\n"
     ]
    },
    {
     "name": "stdout",
     "output_type": "stream",
     "text": [
      "\n",
      "Epoch 43:\n",
      "  Average Training Loss: 0.51  \n",
      "  Training Accuracy: 84.36  %\n",
      "  Testing  Accuracy: 84.35  %\n"
     ]
    },
    {
     "name": "stderr",
     "output_type": "stream",
     "text": [
      "1387it [00:07, 188.17it/s]\n"
     ]
    },
    {
     "name": "stdout",
     "output_type": "stream",
     "text": [
      "\n",
      "Epoch 44:\n",
      "  Average Training Loss: 0.48  \n",
      "  Training Accuracy: 85.28  %\n",
      "  Testing  Accuracy: 84.96  %\n"
     ]
    },
    {
     "name": "stderr",
     "output_type": "stream",
     "text": [
      "1387it [00:07, 188.64it/s]\n"
     ]
    },
    {
     "name": "stdout",
     "output_type": "stream",
     "text": [
      "\n",
      "Epoch 45:\n",
      "  Average Training Loss: 0.47  \n",
      "  Training Accuracy: 85.66  %\n",
      "  Testing  Accuracy: 84.62  %\n"
     ]
    },
    {
     "name": "stderr",
     "output_type": "stream",
     "text": [
      "1387it [00:07, 189.27it/s]\n"
     ]
    },
    {
     "name": "stdout",
     "output_type": "stream",
     "text": [
      "\n",
      "Epoch 46:\n",
      "  Average Training Loss: 0.46  \n",
      "  Training Accuracy: 86.05  %\n",
      "  Testing  Accuracy: 85.49  %\n"
     ]
    },
    {
     "name": "stderr",
     "output_type": "stream",
     "text": [
      "1387it [00:07, 185.67it/s]\n"
     ]
    },
    {
     "name": "stdout",
     "output_type": "stream",
     "text": [
      "\n",
      "Epoch 47:\n",
      "  Average Training Loss: 0.45  \n",
      "  Training Accuracy: 86.00  %\n",
      "  Testing  Accuracy: 83.64  %\n"
     ]
    },
    {
     "name": "stderr",
     "output_type": "stream",
     "text": [
      "1387it [00:07, 177.23it/s]\n"
     ]
    },
    {
     "name": "stdout",
     "output_type": "stream",
     "text": [
      "\n",
      "Epoch 48:\n",
      "  Average Training Loss: 0.43  \n",
      "  Training Accuracy: 87.07  %\n",
      "  Testing  Accuracy: 85.29  %\n"
     ]
    },
    {
     "name": "stderr",
     "output_type": "stream",
     "text": [
      "1387it [00:08, 167.33it/s]\n"
     ]
    },
    {
     "name": "stdout",
     "output_type": "stream",
     "text": [
      "\n",
      "Epoch 49:\n",
      "  Average Training Loss: 0.42  \n",
      "  Training Accuracy: 87.09  %\n",
      "  Testing  Accuracy: 86.23  %\n"
     ]
    },
    {
     "name": "stderr",
     "output_type": "stream",
     "text": [
      "1387it [00:07, 186.62it/s]\n"
     ]
    },
    {
     "name": "stdout",
     "output_type": "stream",
     "text": [
      "\n",
      "Epoch 50:\n",
      "  Average Training Loss: 0.40  \n",
      "  Training Accuracy: 87.81  %\n",
      "  Testing  Accuracy: 86.17  %\n"
     ]
    },
    {
     "name": "stderr",
     "output_type": "stream",
     "text": [
      "1387it [00:07, 186.76it/s]\n"
     ]
    },
    {
     "name": "stdout",
     "output_type": "stream",
     "text": [
      "\n",
      "Epoch 51:\n",
      "  Average Training Loss: 0.39  \n",
      "  Training Accuracy: 88.00  %\n",
      "  Testing  Accuracy: 86.90  %\n"
     ]
    },
    {
     "name": "stderr",
     "output_type": "stream",
     "text": [
      "1387it [00:07, 175.70it/s]\n"
     ]
    },
    {
     "name": "stdout",
     "output_type": "stream",
     "text": [
      "\n",
      "Epoch 52:\n",
      "  Average Training Loss: 0.39  \n",
      "  Training Accuracy: 88.21  %\n",
      "  Testing  Accuracy: 84.60  %\n"
     ]
    },
    {
     "name": "stderr",
     "output_type": "stream",
     "text": [
      "1387it [00:07, 175.46it/s]\n"
     ]
    },
    {
     "name": "stdout",
     "output_type": "stream",
     "text": [
      "\n",
      "Epoch 53:\n",
      "  Average Training Loss: 0.38  \n",
      "  Training Accuracy: 88.51  %\n",
      "  Testing  Accuracy: 86.68  %\n"
     ]
    },
    {
     "name": "stderr",
     "output_type": "stream",
     "text": [
      "1387it [00:07, 180.93it/s]\n"
     ]
    },
    {
     "name": "stdout",
     "output_type": "stream",
     "text": [
      "\n",
      "Epoch 54:\n",
      "  Average Training Loss: 0.36  \n",
      "  Training Accuracy: 89.34  %\n",
      "  Testing  Accuracy: 86.90  %\n"
     ]
    },
    {
     "name": "stderr",
     "output_type": "stream",
     "text": [
      "1387it [00:07, 174.48it/s]\n"
     ]
    },
    {
     "name": "stdout",
     "output_type": "stream",
     "text": [
      "\n",
      "Epoch 55:\n",
      "  Average Training Loss: 0.36  \n",
      "  Training Accuracy: 88.92  %\n",
      "  Testing  Accuracy: 85.92  %\n"
     ]
    },
    {
     "name": "stderr",
     "output_type": "stream",
     "text": [
      "1387it [00:08, 162.63it/s]\n"
     ]
    },
    {
     "name": "stdout",
     "output_type": "stream",
     "text": [
      "\n",
      "Epoch 56:\n",
      "  Average Training Loss: 0.35  \n",
      "  Training Accuracy: 89.22  %\n",
      "  Testing  Accuracy: 87.23  %\n"
     ]
    },
    {
     "name": "stderr",
     "output_type": "stream",
     "text": [
      "1387it [00:08, 172.94it/s]\n"
     ]
    },
    {
     "name": "stdout",
     "output_type": "stream",
     "text": [
      "\n",
      "Epoch 57:\n",
      "  Average Training Loss: 0.34  \n",
      "  Training Accuracy: 89.77  %\n",
      "  Testing  Accuracy: 87.25  %\n"
     ]
    },
    {
     "name": "stderr",
     "output_type": "stream",
     "text": [
      "1387it [00:08, 162.78it/s]\n"
     ]
    },
    {
     "name": "stdout",
     "output_type": "stream",
     "text": [
      "\n",
      "Epoch 58:\n",
      "  Average Training Loss: 0.34  \n",
      "  Training Accuracy: 89.83  %\n",
      "  Testing  Accuracy: 86.88  %\n"
     ]
    },
    {
     "name": "stderr",
     "output_type": "stream",
     "text": [
      "1387it [00:08, 163.08it/s]\n"
     ]
    },
    {
     "name": "stdout",
     "output_type": "stream",
     "text": [
      "\n",
      "Epoch 59:\n",
      "  Average Training Loss: 0.34  \n",
      "  Training Accuracy: 89.95  %\n",
      "  Testing  Accuracy: 87.63  %\n"
     ]
    },
    {
     "name": "stderr",
     "output_type": "stream",
     "text": [
      "1387it [00:07, 178.89it/s]\n"
     ]
    },
    {
     "name": "stdout",
     "output_type": "stream",
     "text": [
      "\n",
      "Epoch 60:\n",
      "  Average Training Loss: 0.32  \n",
      "  Training Accuracy: 90.00  %\n",
      "  Testing  Accuracy: 87.66  %\n"
     ]
    },
    {
     "name": "stderr",
     "output_type": "stream",
     "text": [
      "1387it [00:07, 187.53it/s]\n"
     ]
    },
    {
     "name": "stdout",
     "output_type": "stream",
     "text": [
      "\n",
      "Epoch 61:\n",
      "  Average Training Loss: 0.32  \n",
      "  Training Accuracy: 90.27  %\n",
      "  Testing  Accuracy: 86.64  %\n"
     ]
    },
    {
     "name": "stderr",
     "output_type": "stream",
     "text": [
      "1387it [00:07, 187.67it/s]\n"
     ]
    },
    {
     "name": "stdout",
     "output_type": "stream",
     "text": [
      "\n",
      "Epoch 62:\n",
      "  Average Training Loss: 0.31  \n",
      "  Training Accuracy: 90.61  %\n",
      "  Testing  Accuracy: 88.00  %\n"
     ]
    },
    {
     "name": "stderr",
     "output_type": "stream",
     "text": [
      "1387it [00:07, 187.65it/s]\n"
     ]
    },
    {
     "name": "stdout",
     "output_type": "stream",
     "text": [
      "\n",
      "Epoch 63:\n",
      "  Average Training Loss: 0.31  \n",
      "  Training Accuracy: 90.56  %\n",
      "  Testing  Accuracy: 88.06  %\n"
     ]
    },
    {
     "name": "stderr",
     "output_type": "stream",
     "text": [
      "1387it [00:07, 188.96it/s]\n"
     ]
    },
    {
     "name": "stdout",
     "output_type": "stream",
     "text": [
      "\n",
      "Epoch 64:\n",
      "  Average Training Loss: 0.31  \n",
      "  Training Accuracy: 90.70  %\n",
      "  Testing  Accuracy: 88.02  %\n"
     ]
    },
    {
     "name": "stderr",
     "output_type": "stream",
     "text": [
      "1387it [00:07, 191.09it/s]\n"
     ]
    },
    {
     "name": "stdout",
     "output_type": "stream",
     "text": [
      "\n",
      "Epoch 65:\n",
      "  Average Training Loss: 0.28  \n",
      "  Training Accuracy: 91.56  %\n",
      "  Testing  Accuracy: 88.10  %\n"
     ]
    },
    {
     "name": "stderr",
     "output_type": "stream",
     "text": [
      "1387it [00:07, 189.64it/s]\n"
     ]
    },
    {
     "name": "stdout",
     "output_type": "stream",
     "text": [
      "\n",
      "Epoch 66:\n",
      "  Average Training Loss: 0.29  \n",
      "  Training Accuracy: 91.31  %\n",
      "  Testing  Accuracy: 87.68  %\n"
     ]
    },
    {
     "name": "stderr",
     "output_type": "stream",
     "text": [
      "1387it [00:07, 191.09it/s]\n"
     ]
    },
    {
     "name": "stdout",
     "output_type": "stream",
     "text": [
      "\n",
      "Epoch 67:\n",
      "  Average Training Loss: 0.29  \n",
      "  Training Accuracy: 90.88  %\n",
      "  Testing  Accuracy: 88.19  %\n"
     ]
    },
    {
     "name": "stderr",
     "output_type": "stream",
     "text": [
      "1387it [00:07, 192.03it/s]\n"
     ]
    },
    {
     "name": "stdout",
     "output_type": "stream",
     "text": [
      "\n",
      "Epoch 68:\n",
      "  Average Training Loss: 0.27  \n",
      "  Training Accuracy: 91.54  %\n",
      "  Testing  Accuracy: 88.27  %\n"
     ]
    },
    {
     "name": "stderr",
     "output_type": "stream",
     "text": [
      "1387it [00:07, 186.74it/s]\n"
     ]
    },
    {
     "name": "stdout",
     "output_type": "stream",
     "text": [
      "\n",
      "Epoch 69:\n",
      "  Average Training Loss: 0.26  \n",
      "  Training Accuracy: 92.04  %\n",
      "  Testing  Accuracy: 88.57  %\n"
     ]
    },
    {
     "name": "stderr",
     "output_type": "stream",
     "text": [
      "1387it [00:07, 187.75it/s]\n"
     ]
    },
    {
     "name": "stdout",
     "output_type": "stream",
     "text": [
      "\n",
      "Epoch 70:\n",
      "  Average Training Loss: 0.27  \n",
      "  Training Accuracy: 91.87  %\n",
      "  Testing  Accuracy: 87.70  %\n"
     ]
    },
    {
     "name": "stderr",
     "output_type": "stream",
     "text": [
      "1387it [00:07, 188.61it/s]\n"
     ]
    },
    {
     "name": "stdout",
     "output_type": "stream",
     "text": [
      "\n",
      "Epoch 71:\n",
      "  Average Training Loss: 0.26  \n",
      "  Training Accuracy: 92.16  %\n",
      "  Testing  Accuracy: 89.41  %\n"
     ]
    },
    {
     "name": "stderr",
     "output_type": "stream",
     "text": [
      "1387it [00:07, 186.18it/s]\n"
     ]
    },
    {
     "name": "stdout",
     "output_type": "stream",
     "text": [
      "\n",
      "Epoch 72:\n",
      "  Average Training Loss: 0.25  \n",
      "  Training Accuracy: 92.19  %\n",
      "  Testing  Accuracy: 88.66  %\n"
     ]
    },
    {
     "name": "stderr",
     "output_type": "stream",
     "text": [
      "1387it [00:07, 178.02it/s]\n"
     ]
    },
    {
     "name": "stdout",
     "output_type": "stream",
     "text": [
      "\n",
      "Epoch 73:\n",
      "  Average Training Loss: 0.25  \n",
      "  Training Accuracy: 92.48  %\n",
      "  Testing  Accuracy: 88.84  %\n"
     ]
    },
    {
     "name": "stderr",
     "output_type": "stream",
     "text": [
      "1387it [00:07, 176.41it/s]\n"
     ]
    },
    {
     "name": "stdout",
     "output_type": "stream",
     "text": [
      "\n",
      "Epoch 74:\n",
      "  Average Training Loss: 0.24  \n",
      "  Training Accuracy: 92.74  %\n",
      "  Testing  Accuracy: 87.68  %\n"
     ]
    },
    {
     "name": "stderr",
     "output_type": "stream",
     "text": [
      "1387it [00:07, 175.65it/s]\n"
     ]
    },
    {
     "name": "stdout",
     "output_type": "stream",
     "text": [
      "\n",
      "Epoch 75:\n",
      "  Average Training Loss: 0.23  \n",
      "  Training Accuracy: 93.15  %\n",
      "  Testing  Accuracy: 88.70  %\n"
     ]
    },
    {
     "name": "stderr",
     "output_type": "stream",
     "text": [
      "1387it [00:07, 188.62it/s]\n"
     ]
    },
    {
     "name": "stdout",
     "output_type": "stream",
     "text": [
      "\n",
      "Epoch 76:\n",
      "  Average Training Loss: 0.24  \n",
      "  Training Accuracy: 92.59  %\n",
      "  Testing  Accuracy: 88.82  %\n"
     ]
    },
    {
     "name": "stderr",
     "output_type": "stream",
     "text": [
      "1387it [00:07, 190.88it/s]\n"
     ]
    },
    {
     "name": "stdout",
     "output_type": "stream",
     "text": [
      "\n",
      "Epoch 77:\n",
      "  Average Training Loss: 0.22  \n",
      "  Training Accuracy: 93.11  %\n",
      "  Testing  Accuracy: 89.10  %\n"
     ]
    },
    {
     "name": "stderr",
     "output_type": "stream",
     "text": [
      "1387it [00:07, 189.59it/s]\n"
     ]
    },
    {
     "name": "stdout",
     "output_type": "stream",
     "text": [
      "\n",
      "Epoch 78:\n",
      "  Average Training Loss: 0.24  \n",
      "  Training Accuracy: 92.81  %\n",
      "  Testing  Accuracy: 88.80  %\n"
     ]
    },
    {
     "name": "stderr",
     "output_type": "stream",
     "text": [
      "1387it [00:07, 190.65it/s]\n"
     ]
    },
    {
     "name": "stdout",
     "output_type": "stream",
     "text": [
      "\n",
      "Epoch 79:\n",
      "  Average Training Loss: 0.22  \n",
      "  Training Accuracy: 93.23  %\n",
      "  Testing  Accuracy: 88.33  %\n"
     ]
    },
    {
     "name": "stderr",
     "output_type": "stream",
     "text": [
      "1387it [00:07, 190.67it/s]\n"
     ]
    },
    {
     "name": "stdout",
     "output_type": "stream",
     "text": [
      "\n",
      "Epoch 80:\n",
      "  Average Training Loss: 0.22  \n",
      "  Training Accuracy: 92.89  %\n",
      "  Testing  Accuracy: 89.80  %\n"
     ]
    },
    {
     "name": "stderr",
     "output_type": "stream",
     "text": [
      "1387it [00:07, 191.82it/s]\n"
     ]
    },
    {
     "name": "stdout",
     "output_type": "stream",
     "text": [
      "\n",
      "Epoch 81:\n",
      "  Average Training Loss: 0.21  \n",
      "  Training Accuracy: 93.62  %\n",
      "  Testing  Accuracy: 88.86  %\n"
     ]
    },
    {
     "name": "stderr",
     "output_type": "stream",
     "text": [
      "1387it [00:07, 180.56it/s]\n"
     ]
    },
    {
     "name": "stdout",
     "output_type": "stream",
     "text": [
      "\n",
      "Epoch 82:\n",
      "  Average Training Loss: 0.21  \n",
      "  Training Accuracy: 93.59  %\n",
      "  Testing  Accuracy: 89.41  %\n"
     ]
    },
    {
     "name": "stderr",
     "output_type": "stream",
     "text": [
      "1387it [00:07, 181.01it/s]\n"
     ]
    },
    {
     "name": "stdout",
     "output_type": "stream",
     "text": [
      "\n",
      "Epoch 83:\n",
      "  Average Training Loss: 0.21  \n",
      "  Training Accuracy: 93.75  %\n",
      "  Testing  Accuracy: 89.43  %\n"
     ]
    },
    {
     "name": "stderr",
     "output_type": "stream",
     "text": [
      "1387it [00:07, 187.39it/s]\n"
     ]
    },
    {
     "name": "stdout",
     "output_type": "stream",
     "text": [
      "\n",
      "Epoch 84:\n",
      "  Average Training Loss: 0.20  \n",
      "  Training Accuracy: 93.98  %\n",
      "  Testing  Accuracy: 88.63  %\n"
     ]
    },
    {
     "name": "stderr",
     "output_type": "stream",
     "text": [
      "1387it [00:07, 189.06it/s]\n"
     ]
    },
    {
     "name": "stdout",
     "output_type": "stream",
     "text": [
      "\n",
      "Epoch 85:\n",
      "  Average Training Loss: 0.20  \n",
      "  Training Accuracy: 93.90  %\n",
      "  Testing  Accuracy: 89.08  %\n"
     ]
    },
    {
     "name": "stderr",
     "output_type": "stream",
     "text": [
      "1387it [00:07, 188.16it/s]\n"
     ]
    },
    {
     "name": "stdout",
     "output_type": "stream",
     "text": [
      "\n",
      "Epoch 86:\n",
      "  Average Training Loss: 0.20  \n",
      "  Training Accuracy: 94.18  %\n",
      "  Testing  Accuracy: 89.59  %\n"
     ]
    },
    {
     "name": "stderr",
     "output_type": "stream",
     "text": [
      "1387it [00:07, 187.48it/s]\n"
     ]
    },
    {
     "name": "stdout",
     "output_type": "stream",
     "text": [
      "\n",
      "Epoch 87:\n",
      "  Average Training Loss: 0.19  \n",
      "  Training Accuracy: 94.16  %\n",
      "  Testing  Accuracy: 89.88  %\n"
     ]
    },
    {
     "name": "stderr",
     "output_type": "stream",
     "text": [
      "1387it [00:07, 185.85it/s]\n"
     ]
    },
    {
     "name": "stdout",
     "output_type": "stream",
     "text": [
      "\n",
      "Epoch 88:\n",
      "  Average Training Loss: 0.20  \n",
      "  Training Accuracy: 94.03  %\n",
      "  Testing  Accuracy: 88.57  %\n"
     ]
    },
    {
     "name": "stderr",
     "output_type": "stream",
     "text": [
      "1387it [00:07, 183.95it/s]\n"
     ]
    },
    {
     "name": "stdout",
     "output_type": "stream",
     "text": [
      "\n",
      "Epoch 89:\n",
      "  Average Training Loss: 0.18  \n",
      "  Training Accuracy: 94.44  %\n",
      "  Testing  Accuracy: 88.66  %\n"
     ]
    },
    {
     "name": "stderr",
     "output_type": "stream",
     "text": [
      "1387it [00:07, 178.14it/s]\n"
     ]
    },
    {
     "name": "stdout",
     "output_type": "stream",
     "text": [
      "\n",
      "Epoch 90:\n",
      "  Average Training Loss: 0.18  \n",
      "  Training Accuracy: 94.27  %\n",
      "  Testing  Accuracy: 89.65  %\n"
     ]
    },
    {
     "name": "stderr",
     "output_type": "stream",
     "text": [
      "1387it [00:07, 179.50it/s]\n"
     ]
    },
    {
     "name": "stdout",
     "output_type": "stream",
     "text": [
      "\n",
      "Epoch 91:\n",
      "  Average Training Loss: 0.19  \n",
      "  Training Accuracy: 94.21  %\n",
      "  Testing  Accuracy: 89.23  %\n"
     ]
    },
    {
     "name": "stderr",
     "output_type": "stream",
     "text": [
      "1387it [00:07, 182.43it/s]\n"
     ]
    },
    {
     "name": "stdout",
     "output_type": "stream",
     "text": [
      "\n",
      "Epoch 92:\n",
      "  Average Training Loss: 0.18  \n",
      "  Training Accuracy: 94.55  %\n",
      "  Testing  Accuracy: 88.94  %\n"
     ]
    },
    {
     "name": "stderr",
     "output_type": "stream",
     "text": [
      "1387it [00:07, 180.04it/s]\n"
     ]
    },
    {
     "name": "stdout",
     "output_type": "stream",
     "text": [
      "\n",
      "Epoch 93:\n",
      "  Average Training Loss: 0.18  \n",
      "  Training Accuracy: 94.47  %\n",
      "  Testing  Accuracy: 89.66  %\n"
     ]
    },
    {
     "name": "stderr",
     "output_type": "stream",
     "text": [
      "1387it [00:07, 181.60it/s]\n"
     ]
    },
    {
     "name": "stdout",
     "output_type": "stream",
     "text": [
      "\n",
      "Epoch 94:\n",
      "  Average Training Loss: 0.17  \n",
      "  Training Accuracy: 94.82  %\n",
      "  Testing  Accuracy: 88.86  %\n"
     ]
    },
    {
     "name": "stderr",
     "output_type": "stream",
     "text": [
      "1387it [00:07, 179.54it/s]\n"
     ]
    },
    {
     "name": "stdout",
     "output_type": "stream",
     "text": [
      "\n",
      "Epoch 95:\n",
      "  Average Training Loss: 0.17  \n",
      "  Training Accuracy: 94.77  %\n",
      "  Testing  Accuracy: 88.92  %\n"
     ]
    },
    {
     "name": "stderr",
     "output_type": "stream",
     "text": [
      "1387it [00:07, 180.73it/s]\n"
     ]
    },
    {
     "name": "stdout",
     "output_type": "stream",
     "text": [
      "\n",
      "Epoch 96:\n",
      "  Average Training Loss: 0.17  \n",
      "  Training Accuracy: 94.96  %\n",
      "  Testing  Accuracy: 88.98  %\n"
     ]
    },
    {
     "name": "stderr",
     "output_type": "stream",
     "text": [
      "1387it [00:07, 181.05it/s]\n"
     ]
    },
    {
     "name": "stdout",
     "output_type": "stream",
     "text": [
      "\n",
      "Epoch 97:\n",
      "  Average Training Loss: 0.16  \n",
      "  Training Accuracy: 94.74  %\n",
      "  Testing  Accuracy: 89.66  %\n"
     ]
    },
    {
     "name": "stderr",
     "output_type": "stream",
     "text": [
      "1387it [00:07, 181.16it/s]\n"
     ]
    },
    {
     "name": "stdout",
     "output_type": "stream",
     "text": [
      "\n",
      "Epoch 98:\n",
      "  Average Training Loss: 0.16  \n",
      "  Training Accuracy: 95.11  %\n",
      "  Testing  Accuracy: 88.92  %\n"
     ]
    },
    {
     "name": "stderr",
     "output_type": "stream",
     "text": [
      "1387it [00:07, 180.70it/s]\n"
     ]
    },
    {
     "name": "stdout",
     "output_type": "stream",
     "text": [
      "\n",
      "Epoch 99:\n",
      "  Average Training Loss: 0.16  \n",
      "  Training Accuracy: 95.25  %\n",
      "  Testing  Accuracy: 88.33  %\n"
     ]
    },
    {
     "name": "stderr",
     "output_type": "stream",
     "text": [
      "1387it [00:07, 180.55it/s]\n"
     ]
    },
    {
     "name": "stdout",
     "output_type": "stream",
     "text": [
      "\n",
      "Epoch 100:\n",
      "  Average Training Loss: 0.16  \n",
      "  Training Accuracy: 94.93  %\n",
      "  Testing  Accuracy: 90.43  %\n"
     ]
    },
    {
     "name": "stderr",
     "output_type": "stream",
     "text": [
      "1387it [00:07, 192.02it/s]\n"
     ]
    },
    {
     "name": "stdout",
     "output_type": "stream",
     "text": [
      "\n",
      "Epoch 101:\n",
      "  Average Training Loss: 0.16  \n",
      "  Training Accuracy: 95.20  %\n",
      "  Testing  Accuracy: 88.61  %\n"
     ]
    },
    {
     "name": "stderr",
     "output_type": "stream",
     "text": [
      "1387it [00:07, 191.24it/s]\n"
     ]
    },
    {
     "name": "stdout",
     "output_type": "stream",
     "text": [
      "\n",
      "Epoch 102:\n",
      "  Average Training Loss: 0.15  \n",
      "  Training Accuracy: 95.35  %\n",
      "  Testing  Accuracy: 89.25  %\n"
     ]
    },
    {
     "name": "stderr",
     "output_type": "stream",
     "text": [
      "1387it [00:07, 190.95it/s]\n"
     ]
    },
    {
     "name": "stdout",
     "output_type": "stream",
     "text": [
      "\n",
      "Epoch 103:\n",
      "  Average Training Loss: 0.16  \n",
      "  Training Accuracy: 95.07  %\n",
      "  Testing  Accuracy: 90.00  %\n"
     ]
    },
    {
     "name": "stderr",
     "output_type": "stream",
     "text": [
      "1387it [00:07, 192.70it/s]\n"
     ]
    },
    {
     "name": "stdout",
     "output_type": "stream",
     "text": [
      "\n",
      "Epoch 104:\n",
      "  Average Training Loss: 0.14  \n",
      "  Training Accuracy: 95.79  %\n",
      "  Testing  Accuracy: 88.19  %\n"
     ]
    },
    {
     "name": "stderr",
     "output_type": "stream",
     "text": [
      "1387it [00:07, 192.46it/s]\n"
     ]
    },
    {
     "name": "stdout",
     "output_type": "stream",
     "text": [
      "\n",
      "Epoch 105:\n",
      "  Average Training Loss: 0.14  \n",
      "  Training Accuracy: 95.78  %\n",
      "  Testing  Accuracy: 88.92  %\n"
     ]
    },
    {
     "name": "stderr",
     "output_type": "stream",
     "text": [
      "1387it [00:07, 191.94it/s]\n"
     ]
    },
    {
     "name": "stdout",
     "output_type": "stream",
     "text": [
      "\n",
      "Epoch 106:\n",
      "  Average Training Loss: 0.14  \n",
      "  Training Accuracy: 95.80  %\n",
      "  Testing  Accuracy: 89.72  %\n"
     ]
    },
    {
     "name": "stderr",
     "output_type": "stream",
     "text": [
      "1387it [00:07, 192.06it/s]\n"
     ]
    },
    {
     "name": "stdout",
     "output_type": "stream",
     "text": [
      "\n",
      "Epoch 107:\n",
      "  Average Training Loss: 0.15  \n",
      "  Training Accuracy: 95.47  %\n",
      "  Testing  Accuracy: 89.39  %\n"
     ]
    },
    {
     "name": "stderr",
     "output_type": "stream",
     "text": [
      "1387it [00:07, 193.84it/s]\n"
     ]
    },
    {
     "name": "stdout",
     "output_type": "stream",
     "text": [
      "\n",
      "Epoch 108:\n",
      "  Average Training Loss: 0.13  \n",
      "  Training Accuracy: 95.89  %\n",
      "  Testing  Accuracy: 89.35  %\n"
     ]
    },
    {
     "name": "stderr",
     "output_type": "stream",
     "text": [
      "1387it [00:07, 192.39it/s]\n"
     ]
    },
    {
     "name": "stdout",
     "output_type": "stream",
     "text": [
      "\n",
      "Epoch 109:\n",
      "  Average Training Loss: 0.14  \n",
      "  Training Accuracy: 95.88  %\n",
      "  Testing  Accuracy: 89.25  %\n"
     ]
    },
    {
     "name": "stderr",
     "output_type": "stream",
     "text": [
      "1387it [00:07, 194.01it/s]\n"
     ]
    },
    {
     "name": "stdout",
     "output_type": "stream",
     "text": [
      "\n",
      "Epoch 110:\n",
      "  Average Training Loss: 0.13  \n",
      "  Training Accuracy: 96.17  %\n",
      "  Testing  Accuracy: 89.37  %\n"
     ]
    },
    {
     "name": "stderr",
     "output_type": "stream",
     "text": [
      "1387it [00:07, 193.95it/s]\n"
     ]
    },
    {
     "name": "stdout",
     "output_type": "stream",
     "text": [
      "\n",
      "Epoch 111:\n",
      "  Average Training Loss: 0.12  \n",
      "  Training Accuracy: 96.05  %\n",
      "  Testing  Accuracy: 89.84  %\n"
     ]
    },
    {
     "name": "stderr",
     "output_type": "stream",
     "text": [
      "1387it [00:07, 193.46it/s]\n"
     ]
    },
    {
     "name": "stdout",
     "output_type": "stream",
     "text": [
      "\n",
      "Epoch 112:\n",
      "  Average Training Loss: 0.13  \n",
      "  Training Accuracy: 96.07  %\n",
      "  Testing  Accuracy: 88.90  %\n"
     ]
    },
    {
     "name": "stderr",
     "output_type": "stream",
     "text": [
      "1387it [00:07, 196.91it/s]\n"
     ]
    },
    {
     "name": "stdout",
     "output_type": "stream",
     "text": [
      "\n",
      "Epoch 113:\n",
      "  Average Training Loss: 0.14  \n",
      "  Training Accuracy: 95.58  %\n",
      "  Testing  Accuracy: 88.90  %\n"
     ]
    },
    {
     "name": "stderr",
     "output_type": "stream",
     "text": [
      "1387it [00:07, 197.18it/s]\n"
     ]
    },
    {
     "name": "stdout",
     "output_type": "stream",
     "text": [
      "\n",
      "Epoch 114:\n",
      "  Average Training Loss: 0.13  \n",
      "  Training Accuracy: 96.11  %\n",
      "  Testing  Accuracy: 89.27  %\n"
     ]
    },
    {
     "name": "stderr",
     "output_type": "stream",
     "text": [
      "1387it [00:06, 199.23it/s]\n"
     ]
    },
    {
     "name": "stdout",
     "output_type": "stream",
     "text": [
      "\n",
      "Epoch 115:\n",
      "  Average Training Loss: 0.13  \n",
      "  Training Accuracy: 96.10  %\n",
      "  Testing  Accuracy: 90.06  %\n"
     ]
    },
    {
     "name": "stderr",
     "output_type": "stream",
     "text": [
      "1387it [00:06, 199.57it/s]\n"
     ]
    },
    {
     "name": "stdout",
     "output_type": "stream",
     "text": [
      "\n",
      "Epoch 116:\n",
      "  Average Training Loss: 0.11  \n",
      "  Training Accuracy: 96.47  %\n",
      "  Testing  Accuracy: 89.94  %\n"
     ]
    },
    {
     "name": "stderr",
     "output_type": "stream",
     "text": [
      "1387it [00:06, 199.33it/s]\n"
     ]
    },
    {
     "name": "stdout",
     "output_type": "stream",
     "text": [
      "\n",
      "Epoch 117:\n",
      "  Average Training Loss: 0.13  \n",
      "  Training Accuracy: 95.77  %\n",
      "  Testing  Accuracy: 88.86  %\n"
     ]
    },
    {
     "name": "stderr",
     "output_type": "stream",
     "text": [
      "1387it [00:07, 195.68it/s]\n"
     ]
    },
    {
     "name": "stdout",
     "output_type": "stream",
     "text": [
      "\n",
      "Epoch 118:\n",
      "  Average Training Loss: 0.12  \n",
      "  Training Accuracy: 96.10  %\n",
      "  Testing  Accuracy: 89.61  %\n"
     ]
    },
    {
     "name": "stderr",
     "output_type": "stream",
     "text": [
      "1387it [00:06, 199.22it/s]\n"
     ]
    },
    {
     "name": "stdout",
     "output_type": "stream",
     "text": [
      "\n",
      "Epoch 119:\n",
      "  Average Training Loss: 0.13  \n",
      "  Training Accuracy: 96.23  %\n",
      "  Testing  Accuracy: 89.78  %\n"
     ]
    },
    {
     "name": "stderr",
     "output_type": "stream",
     "text": [
      "1387it [00:06, 198.63it/s]\n"
     ]
    },
    {
     "name": "stdout",
     "output_type": "stream",
     "text": [
      "\n",
      "Epoch 120:\n",
      "  Average Training Loss: 0.12  \n",
      "  Training Accuracy: 96.29  %\n",
      "  Testing  Accuracy: 89.02  %\n"
     ]
    },
    {
     "name": "stderr",
     "output_type": "stream",
     "text": [
      "1387it [00:07, 192.88it/s]\n"
     ]
    },
    {
     "name": "stdout",
     "output_type": "stream",
     "text": [
      "\n",
      "Epoch 121:\n",
      "  Average Training Loss: 0.12  \n",
      "  Training Accuracy: 96.34  %\n",
      "  Testing  Accuracy: 89.66  %\n"
     ]
    },
    {
     "name": "stderr",
     "output_type": "stream",
     "text": [
      "1387it [00:07, 193.25it/s]\n"
     ]
    },
    {
     "name": "stdout",
     "output_type": "stream",
     "text": [
      "\n",
      "Epoch 122:\n",
      "  Average Training Loss: 0.11  \n",
      "  Training Accuracy: 96.45  %\n",
      "  Testing  Accuracy: 89.96  %\n"
     ]
    },
    {
     "name": "stderr",
     "output_type": "stream",
     "text": [
      "1387it [00:07, 194.63it/s]\n"
     ]
    },
    {
     "name": "stdout",
     "output_type": "stream",
     "text": [
      "\n",
      "Epoch 123:\n",
      "  Average Training Loss: 0.12  \n",
      "  Training Accuracy: 96.05  %\n",
      "  Testing  Accuracy: 88.92  %\n"
     ]
    },
    {
     "name": "stderr",
     "output_type": "stream",
     "text": [
      "1387it [00:07, 194.12it/s]\n"
     ]
    },
    {
     "name": "stdout",
     "output_type": "stream",
     "text": [
      "\n",
      "Epoch 124:\n",
      "  Average Training Loss: 0.11  \n",
      "  Training Accuracy: 96.62  %\n",
      "  Testing  Accuracy: 89.00  %\n"
     ]
    },
    {
     "name": "stderr",
     "output_type": "stream",
     "text": [
      "1387it [00:07, 194.47it/s]\n"
     ]
    },
    {
     "name": "stdout",
     "output_type": "stream",
     "text": [
      "\n",
      "Epoch 125:\n",
      "  Average Training Loss: 0.11  \n",
      "  Training Accuracy: 96.86  %\n",
      "  Testing  Accuracy: 89.39  %\n"
     ]
    },
    {
     "name": "stderr",
     "output_type": "stream",
     "text": [
      "1387it [00:07, 193.07it/s]\n"
     ]
    },
    {
     "name": "stdout",
     "output_type": "stream",
     "text": [
      "\n",
      "Epoch 126:\n",
      "  Average Training Loss: 0.12  \n",
      "  Training Accuracy: 96.42  %\n",
      "  Testing  Accuracy: 89.27  %\n"
     ]
    },
    {
     "name": "stderr",
     "output_type": "stream",
     "text": [
      "1387it [00:07, 192.84it/s]\n"
     ]
    },
    {
     "name": "stdout",
     "output_type": "stream",
     "text": [
      "\n",
      "Epoch 127:\n",
      "  Average Training Loss: 0.09  \n",
      "  Training Accuracy: 97.26  %\n",
      "  Testing  Accuracy: 89.61  %\n"
     ]
    },
    {
     "name": "stderr",
     "output_type": "stream",
     "text": [
      "1387it [00:07, 186.95it/s]\n"
     ]
    },
    {
     "name": "stdout",
     "output_type": "stream",
     "text": [
      "\n",
      "Epoch 128:\n",
      "  Average Training Loss: 0.10  \n",
      "  Training Accuracy: 97.01  %\n",
      "  Testing  Accuracy: 89.61  %\n"
     ]
    },
    {
     "name": "stderr",
     "output_type": "stream",
     "text": [
      "1387it [00:06, 198.94it/s]\n"
     ]
    },
    {
     "name": "stdout",
     "output_type": "stream",
     "text": [
      "\n",
      "Epoch 129:\n",
      "  Average Training Loss: 0.10  \n",
      "  Training Accuracy: 96.81  %\n",
      "  Testing  Accuracy: 89.72  %\n"
     ]
    },
    {
     "name": "stderr",
     "output_type": "stream",
     "text": [
      "1387it [00:06, 199.56it/s]\n"
     ]
    },
    {
     "name": "stdout",
     "output_type": "stream",
     "text": [
      "\n",
      "Epoch 130:\n",
      "  Average Training Loss: 0.10  \n",
      "  Training Accuracy: 96.98  %\n",
      "  Testing  Accuracy: 90.23  %\n"
     ]
    },
    {
     "name": "stderr",
     "output_type": "stream",
     "text": [
      "1387it [00:07, 192.92it/s]\n"
     ]
    },
    {
     "name": "stdout",
     "output_type": "stream",
     "text": [
      "\n",
      "Epoch 131:\n",
      "  Average Training Loss: 0.10  \n",
      "  Training Accuracy: 96.83  %\n",
      "  Testing  Accuracy: 89.19  %\n"
     ]
    },
    {
     "name": "stderr",
     "output_type": "stream",
     "text": [
      "1387it [00:07, 196.91it/s]\n"
     ]
    },
    {
     "name": "stdout",
     "output_type": "stream",
     "text": [
      "\n",
      "Epoch 132:\n",
      "  Average Training Loss: 0.11  \n",
      "  Training Accuracy: 96.44  %\n",
      "  Testing  Accuracy: 89.80  %\n"
     ]
    },
    {
     "name": "stderr",
     "output_type": "stream",
     "text": [
      "1387it [00:07, 194.19it/s]\n"
     ]
    },
    {
     "name": "stdout",
     "output_type": "stream",
     "text": [
      "\n",
      "Epoch 133:\n",
      "  Average Training Loss: 0.10  \n",
      "  Training Accuracy: 96.77  %\n",
      "  Testing  Accuracy: 88.96  %\n"
     ]
    },
    {
     "name": "stderr",
     "output_type": "stream",
     "text": [
      "1387it [00:07, 194.67it/s]\n"
     ]
    },
    {
     "name": "stdout",
     "output_type": "stream",
     "text": [
      "\n",
      "Epoch 134:\n",
      "  Average Training Loss: 0.09  \n",
      "  Training Accuracy: 97.17  %\n",
      "  Testing  Accuracy: 89.35  %\n"
     ]
    },
    {
     "name": "stderr",
     "output_type": "stream",
     "text": [
      "1387it [00:07, 187.34it/s]\n"
     ]
    },
    {
     "name": "stdout",
     "output_type": "stream",
     "text": [
      "\n",
      "Epoch 135:\n",
      "  Average Training Loss: 0.09  \n",
      "  Training Accuracy: 97.08  %\n",
      "  Testing  Accuracy: 90.19  %\n"
     ]
    },
    {
     "name": "stderr",
     "output_type": "stream",
     "text": [
      "1387it [00:07, 185.91it/s]\n"
     ]
    },
    {
     "name": "stdout",
     "output_type": "stream",
     "text": [
      "\n",
      "Epoch 136:\n",
      "  Average Training Loss: 0.09  \n",
      "  Training Accuracy: 97.31  %\n",
      "  Testing  Accuracy: 89.00  %\n"
     ]
    },
    {
     "name": "stderr",
     "output_type": "stream",
     "text": [
      "1387it [00:07, 181.86it/s]\n"
     ]
    },
    {
     "name": "stdout",
     "output_type": "stream",
     "text": [
      "\n",
      "Epoch 137:\n",
      "  Average Training Loss: 0.10  \n",
      "  Training Accuracy: 96.91  %\n",
      "  Testing  Accuracy: 89.47  %\n"
     ]
    },
    {
     "name": "stderr",
     "output_type": "stream",
     "text": [
      "1387it [00:07, 185.27it/s]\n"
     ]
    },
    {
     "name": "stdout",
     "output_type": "stream",
     "text": [
      "\n",
      "Epoch 138:\n",
      "  Average Training Loss: 0.09  \n",
      "  Training Accuracy: 97.26  %\n",
      "  Testing  Accuracy: 90.06  %\n"
     ]
    },
    {
     "name": "stderr",
     "output_type": "stream",
     "text": [
      "1387it [00:07, 186.46it/s]\n"
     ]
    },
    {
     "name": "stdout",
     "output_type": "stream",
     "text": [
      "\n",
      "Epoch 139:\n",
      "  Average Training Loss: 0.09  \n",
      "  Training Accuracy: 97.32  %\n",
      "  Testing  Accuracy: 89.51  %\n"
     ]
    },
    {
     "name": "stderr",
     "output_type": "stream",
     "text": [
      "1387it [00:07, 184.81it/s]\n"
     ]
    },
    {
     "name": "stdout",
     "output_type": "stream",
     "text": [
      "\n",
      "Epoch 140:\n",
      "  Average Training Loss: 0.09  \n",
      "  Training Accuracy: 97.06  %\n",
      "  Testing  Accuracy: 89.88  %\n"
     ]
    },
    {
     "name": "stderr",
     "output_type": "stream",
     "text": [
      "1387it [00:07, 186.40it/s]\n"
     ]
    },
    {
     "name": "stdout",
     "output_type": "stream",
     "text": [
      "\n",
      "Epoch 141:\n",
      "  Average Training Loss: 0.09  \n",
      "  Training Accuracy: 97.11  %\n",
      "  Testing  Accuracy: 90.70  %\n"
     ]
    },
    {
     "name": "stderr",
     "output_type": "stream",
     "text": [
      "1387it [00:07, 186.68it/s]\n"
     ]
    },
    {
     "name": "stdout",
     "output_type": "stream",
     "text": [
      "\n",
      "Epoch 142:\n",
      "  Average Training Loss: 0.09  \n",
      "  Training Accuracy: 97.30  %\n",
      "  Testing  Accuracy: 90.12  %\n"
     ]
    },
    {
     "name": "stderr",
     "output_type": "stream",
     "text": [
      "1387it [00:07, 185.21it/s]\n"
     ]
    },
    {
     "name": "stdout",
     "output_type": "stream",
     "text": [
      "\n",
      "Epoch 143:\n",
      "  Average Training Loss: 0.09  \n",
      "  Training Accuracy: 97.27  %\n",
      "  Testing  Accuracy: 89.57  %\n"
     ]
    },
    {
     "name": "stderr",
     "output_type": "stream",
     "text": [
      "1387it [00:07, 181.89it/s]\n"
     ]
    },
    {
     "name": "stdout",
     "output_type": "stream",
     "text": [
      "\n",
      "Epoch 144:\n",
      "  Average Training Loss: 0.09  \n",
      "  Training Accuracy: 97.22  %\n",
      "  Testing  Accuracy: 88.90  %\n"
     ]
    },
    {
     "name": "stderr",
     "output_type": "stream",
     "text": [
      "1387it [00:07, 180.70it/s]\n"
     ]
    },
    {
     "name": "stdout",
     "output_type": "stream",
     "text": [
      "\n",
      "Epoch 145:\n",
      "  Average Training Loss: 0.08  \n",
      "  Training Accuracy: 97.40  %\n",
      "  Testing  Accuracy: 90.35  %\n"
     ]
    },
    {
     "name": "stderr",
     "output_type": "stream",
     "text": [
      "1387it [00:07, 182.94it/s]\n"
     ]
    },
    {
     "name": "stdout",
     "output_type": "stream",
     "text": [
      "\n",
      "Epoch 146:\n",
      "  Average Training Loss: 0.09  \n",
      "  Training Accuracy: 97.29  %\n",
      "  Testing  Accuracy: 89.51  %\n"
     ]
    },
    {
     "name": "stderr",
     "output_type": "stream",
     "text": [
      "1387it [00:07, 180.15it/s]\n"
     ]
    },
    {
     "name": "stdout",
     "output_type": "stream",
     "text": [
      "\n",
      "Epoch 147:\n",
      "  Average Training Loss: 0.09  \n",
      "  Training Accuracy: 97.01  %\n",
      "  Testing  Accuracy: 89.86  %\n"
     ]
    },
    {
     "name": "stderr",
     "output_type": "stream",
     "text": [
      "1387it [00:07, 180.60it/s]\n"
     ]
    },
    {
     "name": "stdout",
     "output_type": "stream",
     "text": [
      "\n",
      "Epoch 148:\n",
      "  Average Training Loss: 0.08  \n",
      "  Training Accuracy: 97.52  %\n",
      "  Testing  Accuracy: 89.19  %\n"
     ]
    },
    {
     "name": "stderr",
     "output_type": "stream",
     "text": [
      "1387it [00:07, 180.24it/s]\n"
     ]
    },
    {
     "name": "stdout",
     "output_type": "stream",
     "text": [
      "\n",
      "Epoch 149:\n",
      "  Average Training Loss: 0.08  \n",
      "  Training Accuracy: 97.43  %\n",
      "  Testing  Accuracy: 90.00  %\n"
     ]
    },
    {
     "name": "stderr",
     "output_type": "stream",
     "text": [
      "1387it [00:07, 180.55it/s]\n"
     ]
    },
    {
     "name": "stdout",
     "output_type": "stream",
     "text": [
      "\n",
      "Epoch 150:\n",
      "  Average Training Loss: 0.08  \n",
      "  Training Accuracy: 97.45  %\n",
      "  Testing  Accuracy: 90.27  %\n"
     ]
    },
    {
     "name": "stderr",
     "output_type": "stream",
     "text": [
      "1387it [00:07, 181.05it/s]\n"
     ]
    },
    {
     "name": "stdout",
     "output_type": "stream",
     "text": [
      "\n",
      "Epoch 151:\n",
      "  Average Training Loss: 0.08  \n",
      "  Training Accuracy: 97.51  %\n",
      "  Testing  Accuracy: 90.19  %\n"
     ]
    },
    {
     "name": "stderr",
     "output_type": "stream",
     "text": [
      "1387it [00:07, 180.88it/s]\n"
     ]
    },
    {
     "name": "stdout",
     "output_type": "stream",
     "text": [
      "\n",
      "Epoch 152:\n",
      "  Average Training Loss: 0.09  \n",
      "  Training Accuracy: 97.34  %\n",
      "  Testing  Accuracy: 89.68  %\n"
     ]
    },
    {
     "name": "stderr",
     "output_type": "stream",
     "text": [
      "1387it [00:08, 171.73it/s]\n"
     ]
    },
    {
     "name": "stdout",
     "output_type": "stream",
     "text": [
      "\n",
      "Epoch 153:\n",
      "  Average Training Loss: 0.08  \n",
      "  Training Accuracy: 97.47  %\n",
      "  Testing  Accuracy: 90.35  %\n"
     ]
    },
    {
     "name": "stderr",
     "output_type": "stream",
     "text": [
      "1387it [00:07, 187.50it/s]\n"
     ]
    },
    {
     "name": "stdout",
     "output_type": "stream",
     "text": [
      "\n",
      "Epoch 154:\n",
      "  Average Training Loss: 0.08  \n",
      "  Training Accuracy: 97.60  %\n",
      "  Testing  Accuracy: 89.39  %\n"
     ]
    },
    {
     "name": "stderr",
     "output_type": "stream",
     "text": [
      "1387it [00:07, 188.61it/s]\n"
     ]
    },
    {
     "name": "stdout",
     "output_type": "stream",
     "text": [
      "\n",
      "Epoch 155:\n",
      "  Average Training Loss: 0.08  \n",
      "  Training Accuracy: 97.52  %\n",
      "  Testing  Accuracy: 90.25  %\n"
     ]
    },
    {
     "name": "stderr",
     "output_type": "stream",
     "text": [
      "1387it [00:07, 187.69it/s]\n"
     ]
    },
    {
     "name": "stdout",
     "output_type": "stream",
     "text": [
      "\n",
      "Epoch 156:\n",
      "  Average Training Loss: 0.08  \n",
      "  Training Accuracy: 97.70  %\n",
      "  Testing  Accuracy: 89.37  %\n"
     ]
    },
    {
     "name": "stderr",
     "output_type": "stream",
     "text": [
      "1387it [00:07, 182.60it/s]\n"
     ]
    },
    {
     "name": "stdout",
     "output_type": "stream",
     "text": [
      "\n",
      "Epoch 157:\n",
      "  Average Training Loss: 0.07  \n",
      "  Training Accuracy: 97.70  %\n",
      "  Testing  Accuracy: 90.15  %\n"
     ]
    },
    {
     "name": "stderr",
     "output_type": "stream",
     "text": [
      "1387it [00:07, 185.65it/s]\n"
     ]
    },
    {
     "name": "stdout",
     "output_type": "stream",
     "text": [
      "\n",
      "Epoch 158:\n",
      "  Average Training Loss: 0.08  \n",
      "  Training Accuracy: 97.42  %\n",
      "  Testing  Accuracy: 89.55  %\n"
     ]
    },
    {
     "name": "stderr",
     "output_type": "stream",
     "text": [
      "1387it [00:07, 186.60it/s]\n"
     ]
    },
    {
     "name": "stdout",
     "output_type": "stream",
     "text": [
      "\n",
      "Epoch 159:\n",
      "  Average Training Loss: 0.07  \n",
      "  Training Accuracy: 97.88  %\n",
      "  Testing  Accuracy: 89.66  %\n"
     ]
    },
    {
     "name": "stderr",
     "output_type": "stream",
     "text": [
      "1387it [00:07, 185.83it/s]\n"
     ]
    },
    {
     "name": "stdout",
     "output_type": "stream",
     "text": [
      "\n",
      "Epoch 160:\n",
      "  Average Training Loss: 0.08  \n",
      "  Training Accuracy: 97.53  %\n",
      "  Testing  Accuracy: 90.15  %\n"
     ]
    },
    {
     "name": "stderr",
     "output_type": "stream",
     "text": [
      "1387it [00:07, 180.47it/s]\n"
     ]
    },
    {
     "name": "stdout",
     "output_type": "stream",
     "text": [
      "\n",
      "Epoch 161:\n",
      "  Average Training Loss: 0.07  \n",
      "  Training Accuracy: 97.82  %\n",
      "  Testing  Accuracy: 88.86  %\n"
     ]
    },
    {
     "name": "stderr",
     "output_type": "stream",
     "text": [
      "1387it [00:07, 185.48it/s]\n"
     ]
    },
    {
     "name": "stdout",
     "output_type": "stream",
     "text": [
      "\n",
      "Epoch 162:\n",
      "  Average Training Loss: 0.08  \n",
      "  Training Accuracy: 97.66  %\n",
      "  Testing  Accuracy: 90.51  %\n"
     ]
    },
    {
     "name": "stderr",
     "output_type": "stream",
     "text": [
      "1387it [00:07, 186.84it/s]\n"
     ]
    },
    {
     "name": "stdout",
     "output_type": "stream",
     "text": [
      "\n",
      "Epoch 163:\n",
      "  Average Training Loss: 0.07  \n",
      "  Training Accuracy: 97.95  %\n",
      "  Testing  Accuracy: 90.15  %\n"
     ]
    },
    {
     "name": "stderr",
     "output_type": "stream",
     "text": [
      "1387it [00:07, 186.84it/s]\n"
     ]
    },
    {
     "name": "stdout",
     "output_type": "stream",
     "text": [
      "\n",
      "Epoch 164:\n",
      "  Average Training Loss: 0.08  \n",
      "  Training Accuracy: 97.60  %\n",
      "  Testing  Accuracy: 89.39  %\n"
     ]
    },
    {
     "name": "stderr",
     "output_type": "stream",
     "text": [
      "1387it [00:07, 192.04it/s]\n"
     ]
    },
    {
     "name": "stdout",
     "output_type": "stream",
     "text": [
      "\n",
      "Epoch 165:\n",
      "  Average Training Loss: 0.07  \n",
      "  Training Accuracy: 97.63  %\n",
      "  Testing  Accuracy: 90.04  %\n"
     ]
    },
    {
     "name": "stderr",
     "output_type": "stream",
     "text": [
      "1387it [00:07, 188.18it/s]\n"
     ]
    },
    {
     "name": "stdout",
     "output_type": "stream",
     "text": [
      "\n",
      "Epoch 166:\n",
      "  Average Training Loss: 0.07  \n",
      "  Training Accuracy: 97.84  %\n",
      "  Testing  Accuracy: 89.72  %\n"
     ]
    },
    {
     "name": "stderr",
     "output_type": "stream",
     "text": [
      "1387it [00:07, 190.55it/s]\n"
     ]
    },
    {
     "name": "stdout",
     "output_type": "stream",
     "text": [
      "\n",
      "Epoch 167:\n",
      "  Average Training Loss: 0.07  \n",
      "  Training Accuracy: 97.68  %\n",
      "  Testing  Accuracy: 89.65  %\n"
     ]
    },
    {
     "name": "stderr",
     "output_type": "stream",
     "text": [
      "1387it [00:07, 192.78it/s]\n"
     ]
    },
    {
     "name": "stdout",
     "output_type": "stream",
     "text": [
      "\n",
      "Epoch 168:\n",
      "  Average Training Loss: 0.06  \n",
      "  Training Accuracy: 98.02  %\n",
      "  Testing  Accuracy: 89.90  %\n"
     ]
    },
    {
     "name": "stderr",
     "output_type": "stream",
     "text": [
      "1387it [00:07, 191.11it/s]\n"
     ]
    },
    {
     "name": "stdout",
     "output_type": "stream",
     "text": [
      "\n",
      "Epoch 169:\n",
      "  Average Training Loss: 0.06  \n",
      "  Training Accuracy: 97.95  %\n",
      "  Testing  Accuracy: 89.53  %\n"
     ]
    },
    {
     "name": "stderr",
     "output_type": "stream",
     "text": [
      "1387it [00:08, 173.34it/s]\n"
     ]
    },
    {
     "name": "stdout",
     "output_type": "stream",
     "text": [
      "\n",
      "Epoch 170:\n",
      "  Average Training Loss: 0.06  \n",
      "  Training Accuracy: 98.12  %\n",
      "  Testing  Accuracy: 90.57  %\n"
     ]
    },
    {
     "name": "stderr",
     "output_type": "stream",
     "text": [
      "1387it [00:07, 177.88it/s]\n"
     ]
    },
    {
     "name": "stdout",
     "output_type": "stream",
     "text": [
      "\n",
      "Epoch 171:\n",
      "  Average Training Loss: 0.06  \n",
      "  Training Accuracy: 97.78  %\n",
      "  Testing  Accuracy: 89.55  %\n"
     ]
    },
    {
     "name": "stderr",
     "output_type": "stream",
     "text": [
      "1387it [00:08, 169.34it/s]\n"
     ]
    },
    {
     "name": "stdout",
     "output_type": "stream",
     "text": [
      "\n",
      "Epoch 172:\n",
      "  Average Training Loss: 0.07  \n",
      "  Training Accuracy: 97.91  %\n",
      "  Testing  Accuracy: 89.49  %\n"
     ]
    },
    {
     "name": "stderr",
     "output_type": "stream",
     "text": [
      "1387it [00:07, 196.74it/s]\n"
     ]
    },
    {
     "name": "stdout",
     "output_type": "stream",
     "text": [
      "\n",
      "Epoch 173:\n",
      "  Average Training Loss: 0.06  \n",
      "  Training Accuracy: 98.04  %\n",
      "  Testing  Accuracy: 89.84  %\n"
     ]
    },
    {
     "name": "stderr",
     "output_type": "stream",
     "text": [
      "1387it [00:06, 199.01it/s]\n"
     ]
    },
    {
     "name": "stdout",
     "output_type": "stream",
     "text": [
      "\n",
      "Epoch 174:\n",
      "  Average Training Loss: 0.06  \n",
      "  Training Accuracy: 98.02  %\n",
      "  Testing  Accuracy: 89.27  %\n"
     ]
    },
    {
     "name": "stderr",
     "output_type": "stream",
     "text": [
      "1387it [00:06, 200.48it/s]\n"
     ]
    },
    {
     "name": "stdout",
     "output_type": "stream",
     "text": [
      "\n",
      "Epoch 175:\n",
      "  Average Training Loss: 0.06  \n",
      "  Training Accuracy: 98.25  %\n",
      "  Testing  Accuracy: 90.33  %\n"
     ]
    },
    {
     "name": "stderr",
     "output_type": "stream",
     "text": [
      "1387it [00:07, 182.66it/s]\n"
     ]
    },
    {
     "name": "stdout",
     "output_type": "stream",
     "text": [
      "\n",
      "Epoch 176:\n",
      "  Average Training Loss: 0.06  \n",
      "  Training Accuracy: 98.18  %\n",
      "  Testing  Accuracy: 89.74  %\n"
     ]
    },
    {
     "name": "stderr",
     "output_type": "stream",
     "text": [
      "1387it [00:07, 188.63it/s]\n"
     ]
    },
    {
     "name": "stdout",
     "output_type": "stream",
     "text": [
      "\n",
      "Epoch 177:\n",
      "  Average Training Loss: 0.06  \n",
      "  Training Accuracy: 97.93  %\n",
      "  Testing  Accuracy: 89.37  %\n"
     ]
    },
    {
     "name": "stderr",
     "output_type": "stream",
     "text": [
      "1387it [00:07, 191.96it/s]\n"
     ]
    },
    {
     "name": "stdout",
     "output_type": "stream",
     "text": [
      "\n",
      "Epoch 178:\n",
      "  Average Training Loss: 0.06  \n",
      "  Training Accuracy: 98.20  %\n",
      "  Testing  Accuracy: 89.43  %\n"
     ]
    },
    {
     "name": "stderr",
     "output_type": "stream",
     "text": [
      "1387it [00:07, 189.72it/s]\n"
     ]
    },
    {
     "name": "stdout",
     "output_type": "stream",
     "text": [
      "\n",
      "Epoch 179:\n",
      "  Average Training Loss: 0.05  \n",
      "  Training Accuracy: 98.40  %\n",
      "  Testing  Accuracy: 90.29  %\n"
     ]
    },
    {
     "name": "stderr",
     "output_type": "stream",
     "text": [
      "1387it [00:07, 187.38it/s]\n"
     ]
    },
    {
     "name": "stdout",
     "output_type": "stream",
     "text": [
      "\n",
      "Epoch 180:\n",
      "  Average Training Loss: 0.06  \n",
      "  Training Accuracy: 98.16  %\n",
      "  Testing  Accuracy: 89.80  %\n"
     ]
    },
    {
     "name": "stderr",
     "output_type": "stream",
     "text": [
      "1387it [00:07, 183.99it/s]\n"
     ]
    },
    {
     "name": "stdout",
     "output_type": "stream",
     "text": [
      "\n",
      "Epoch 181:\n",
      "  Average Training Loss: 0.06  \n",
      "  Training Accuracy: 98.17  %\n",
      "  Testing  Accuracy: 89.80  %\n"
     ]
    },
    {
     "name": "stderr",
     "output_type": "stream",
     "text": [
      "1387it [00:07, 188.83it/s]\n"
     ]
    },
    {
     "name": "stdout",
     "output_type": "stream",
     "text": [
      "\n",
      "Epoch 182:\n",
      "  Average Training Loss: 0.06  \n",
      "  Training Accuracy: 97.97  %\n",
      "  Testing  Accuracy: 89.96  %\n"
     ]
    },
    {
     "name": "stderr",
     "output_type": "stream",
     "text": [
      "1387it [00:07, 193.79it/s]\n"
     ]
    },
    {
     "name": "stdout",
     "output_type": "stream",
     "text": [
      "\n",
      "Epoch 183:\n",
      "  Average Training Loss: 0.06  \n",
      "  Training Accuracy: 98.03  %\n",
      "  Testing  Accuracy: 89.96  %\n"
     ]
    },
    {
     "name": "stderr",
     "output_type": "stream",
     "text": [
      "1387it [00:07, 191.05it/s]\n"
     ]
    },
    {
     "name": "stdout",
     "output_type": "stream",
     "text": [
      "\n",
      "Epoch 184:\n",
      "  Average Training Loss: 0.05  \n",
      "  Training Accuracy: 98.40  %\n",
      "  Testing  Accuracy: 90.47  %\n"
     ]
    },
    {
     "name": "stderr",
     "output_type": "stream",
     "text": [
      "1387it [00:07, 194.43it/s]\n"
     ]
    },
    {
     "name": "stdout",
     "output_type": "stream",
     "text": [
      "\n",
      "Epoch 185:\n",
      "  Average Training Loss: 0.05  \n",
      "  Training Accuracy: 98.33  %\n",
      "  Testing  Accuracy: 89.68  %\n"
     ]
    },
    {
     "name": "stderr",
     "output_type": "stream",
     "text": [
      "1387it [00:07, 192.39it/s]\n"
     ]
    },
    {
     "name": "stdout",
     "output_type": "stream",
     "text": [
      "\n",
      "Epoch 186:\n",
      "  Average Training Loss: 0.05  \n",
      "  Training Accuracy: 98.36  %\n",
      "  Testing  Accuracy: 89.27  %\n"
     ]
    },
    {
     "name": "stderr",
     "output_type": "stream",
     "text": [
      "1387it [00:07, 195.39it/s]\n"
     ]
    },
    {
     "name": "stdout",
     "output_type": "stream",
     "text": [
      "\n",
      "Epoch 187:\n",
      "  Average Training Loss: 0.06  \n",
      "  Training Accuracy: 98.29  %\n",
      "  Testing  Accuracy: 90.43  %\n"
     ]
    },
    {
     "name": "stderr",
     "output_type": "stream",
     "text": [
      "1387it [00:07, 194.76it/s]\n"
     ]
    },
    {
     "name": "stdout",
     "output_type": "stream",
     "text": [
      "\n",
      "Epoch 188:\n",
      "  Average Training Loss: 0.05  \n",
      "  Training Accuracy: 98.46  %\n",
      "  Testing  Accuracy: 88.68  %\n"
     ]
    },
    {
     "name": "stderr",
     "output_type": "stream",
     "text": [
      "1387it [00:07, 196.91it/s]\n"
     ]
    },
    {
     "name": "stdout",
     "output_type": "stream",
     "text": [
      "\n",
      "Epoch 189:\n",
      "  Average Training Loss: 0.06  \n",
      "  Training Accuracy: 98.14  %\n",
      "  Testing  Accuracy: 89.39  %\n"
     ]
    },
    {
     "name": "stderr",
     "output_type": "stream",
     "text": [
      "1387it [00:07, 194.44it/s]\n"
     ]
    },
    {
     "name": "stdout",
     "output_type": "stream",
     "text": [
      "\n",
      "Epoch 190:\n",
      "  Average Training Loss: 0.05  \n",
      "  Training Accuracy: 98.61  %\n",
      "  Testing  Accuracy: 90.43  %\n"
     ]
    },
    {
     "name": "stderr",
     "output_type": "stream",
     "text": [
      "1387it [00:07, 193.53it/s]\n"
     ]
    },
    {
     "name": "stdout",
     "output_type": "stream",
     "text": [
      "\n",
      "Epoch 191:\n",
      "  Average Training Loss: 0.05  \n",
      "  Training Accuracy: 98.49  %\n",
      "  Testing  Accuracy: 90.47  %\n"
     ]
    },
    {
     "name": "stderr",
     "output_type": "stream",
     "text": [
      "1387it [00:07, 193.75it/s]\n"
     ]
    },
    {
     "name": "stdout",
     "output_type": "stream",
     "text": [
      "\n",
      "Epoch 192:\n",
      "  Average Training Loss: 0.05  \n",
      "  Training Accuracy: 98.54  %\n",
      "  Testing  Accuracy: 89.98  %\n"
     ]
    },
    {
     "name": "stderr",
     "output_type": "stream",
     "text": [
      "1387it [00:07, 193.45it/s]\n"
     ]
    },
    {
     "name": "stdout",
     "output_type": "stream",
     "text": [
      "\n",
      "Epoch 193:\n",
      "  Average Training Loss: 0.05  \n",
      "  Training Accuracy: 98.37  %\n",
      "  Testing  Accuracy: 89.49  %\n"
     ]
    },
    {
     "name": "stderr",
     "output_type": "stream",
     "text": [
      "1387it [00:07, 192.94it/s]\n"
     ]
    },
    {
     "name": "stdout",
     "output_type": "stream",
     "text": [
      "\n",
      "Epoch 194:\n",
      "  Average Training Loss: 0.05  \n",
      "  Training Accuracy: 98.44  %\n",
      "  Testing  Accuracy: 90.66  %\n"
     ]
    },
    {
     "name": "stderr",
     "output_type": "stream",
     "text": [
      "1387it [00:07, 192.87it/s]\n"
     ]
    },
    {
     "name": "stdout",
     "output_type": "stream",
     "text": [
      "\n",
      "Epoch 195:\n",
      "  Average Training Loss: 0.06  \n",
      "  Training Accuracy: 98.10  %\n",
      "  Testing  Accuracy: 89.80  %\n"
     ]
    },
    {
     "name": "stderr",
     "output_type": "stream",
     "text": [
      "1387it [00:07, 192.56it/s]\n"
     ]
    },
    {
     "name": "stdout",
     "output_type": "stream",
     "text": [
      "\n",
      "Epoch 196:\n",
      "  Average Training Loss: 0.05  \n",
      "  Training Accuracy: 98.40  %\n",
      "  Testing  Accuracy: 89.70  %\n"
     ]
    },
    {
     "name": "stderr",
     "output_type": "stream",
     "text": [
      "1387it [00:07, 188.97it/s]\n"
     ]
    },
    {
     "name": "stdout",
     "output_type": "stream",
     "text": [
      "\n",
      "Epoch 197:\n",
      "  Average Training Loss: 0.05  \n",
      "  Training Accuracy: 98.42  %\n",
      "  Testing  Accuracy: 89.70  %\n"
     ]
    },
    {
     "name": "stderr",
     "output_type": "stream",
     "text": [
      "1387it [00:07, 193.59it/s]\n"
     ]
    },
    {
     "name": "stdout",
     "output_type": "stream",
     "text": [
      "\n",
      "Epoch 198:\n",
      "  Average Training Loss: 0.05  \n",
      "  Training Accuracy: 98.39  %\n",
      "  Testing  Accuracy: 89.57  %\n"
     ]
    },
    {
     "name": "stderr",
     "output_type": "stream",
     "text": [
      "1387it [00:07, 190.81it/s]\n"
     ]
    },
    {
     "name": "stdout",
     "output_type": "stream",
     "text": [
      "\n",
      "Epoch 199:\n",
      "  Average Training Loss: 0.05  \n",
      "  Training Accuracy: 98.62  %\n",
      "  Testing  Accuracy: 90.10  %\n"
     ]
    },
    {
     "name": "stderr",
     "output_type": "stream",
     "text": [
      "1387it [00:07, 184.37it/s]\n"
     ]
    },
    {
     "name": "stdout",
     "output_type": "stream",
     "text": [
      "\n",
      "Epoch 200:\n",
      "  Average Training Loss: 0.05  \n",
      "  Training Accuracy: 98.47  %\n",
      "  Testing  Accuracy: 90.04  %\n"
     ]
    }
   ],
   "source": [
    "# Model training\n",
    "\n",
    "train_losses = []  # to store training losses\n",
    "train_accuracy = []  # to store training accuracies\n",
    "test_accuracy = []  # to store test accuracies\n",
    "\n",
    "for epoch in range(config[\"epoch_count\"]):\n",
    "    epoch_loss = 0.0\n",
    "    correct_train = 0\n",
    "    total_train = 0\n",
    "\n",
    "    # Training loop\n",
    "    model.train()\n",
    "\n",
    "    for _, (images, labels) in tqdm(enumerate(loader_train)):\n",
    "        # Move images and labels to the GPU\n",
    "        images, labels = images.to(device), labels.to(device)\n",
    "\n",
    "        # Forward pass\n",
    "        outputs = model(images)\n",
    "        loss = loss_fn(outputs, labels)\n",
    "\n",
    "        # Backward pass and optimize\n",
    "        optimizer.zero_grad()\n",
    "        loss.backward()\n",
    "        optimizer.step()\n",
    "\n",
    "        epoch_loss += loss.item()\n",
    "\n",
    "        # Calculate training accuracy\n",
    "        _, predicted_train = torch.max(outputs.data, 1)\n",
    "        total_train += labels.size(0)\n",
    "        correct_train += (predicted_train == labels).sum().item()\n",
    "\n",
    "    # Calculate average training loss and accuracy for the epoch\n",
    "    avg_epoch_loss = epoch_loss / len(loader_train)\n",
    "    train_losses.append(avg_epoch_loss)\n",
    "\n",
    "    # In training accuracy\n",
    "    acc_train_perc = 100 * correct_train / total_train\n",
    "    train_accuracy.append(acc_train_perc)\n",
    "\n",
    "    # Out of training accuracy\n",
    "    acc_test_perc = evaluate(model, loader_test)\n",
    "    test_accuracy.append(acc_test_perc)\n",
    "\n",
    "    print('\\n'.join([\n",
    "        '',  # add empty line\n",
    "        f'Epoch {epoch +1}:',\n",
    "        f'  Average Training Loss: {avg_epoch_loss:<6.2f}',\n",
    "        f'  Training Accuracy: {acc_train_perc:<6.2f} %',\n",
    "        f'  Testing  Accuracy: {acc_test_perc:<6.2f} %']))"
   ]
  },
  {
   "cell_type": "code",
   "execution_count": 10,
   "metadata": {},
   "outputs": [
    {
     "name": "stdout",
     "output_type": "stream",
     "text": [
      "Test Accuracy: 90.06 %\n"
     ]
    }
   ],
   "source": [
    "# Model testing (as separate step)\n",
    "\n",
    "\n",
    "correct_test = 0\n",
    "total_test = 0\n",
    "\n",
    "model.eval()\n",
    "\n",
    "with torch.no_grad():\n",
    "    for images, labels in loader_test:\n",
    "        # Move images and labels to the GPU\n",
    "        images, labels = images.to(device), labels.to(device)\n",
    "\n",
    "        # Forward pass\n",
    "        outputs = model(images)\n",
    "\n",
    "        # Get the index of the max log-probability\n",
    "        _, predicted_test = torch.max(outputs.data, 1)\n",
    "\n",
    "        total_test += labels.size(0)\n",
    "        correct_test += (predicted_test == labels).sum().item()\n",
    "\n",
    "# Calculate test accuracy\n",
    "acc_test_perc = 100 * correct_test / total_test\n",
    "test_accuracy.append(acc_test_perc)\n",
    "\n",
    "print(f'Test Accuracy: {acc_test_perc:.2f} %')"
   ]
  },
  {
   "cell_type": "code",
   "execution_count": 11,
   "metadata": {},
   "outputs": [
    {
     "data": {
      "image/png": "[encoded data removed]",
      "text/plain": [
       "<Figure size 1500x500 with 3 Axes>"
      ]
     },
     "metadata": {},
     "output_type": "display_data"
    }
   ],
   "source": [
    "# Visualize training history\n",
    "\n",
    "plt.figure(figsize=(15, 5))\n",
    "\n",
    "plt.subplot(1, 3, 1)\n",
    "plt.plot(train_losses, label='Training Loss')\n",
    "plt.xlabel('Epoch')\n",
    "plt.ylabel('Loss')\n",
    "plt.title('Training Loss Over Epochs')\n",
    "plt.legend()\n",
    "\n",
    "plt.subplot(1, 3, 2)\n",
    "plt.plot(train_accuracy, label='Training Accuracy')\n",
    "plt.xlabel('Epoch')\n",
    "plt.ylabel('Accuracy (%)')\n",
    "plt.title('Training Accuracy Over Epochs')\n",
    "plt.legend()\n",
    "\n",
    "plt.subplot(1, 3, 3)\n",
    "plt.plot(train_accuracy, label='Testing Accuracy')\n",
    "plt.xlabel('Epoch')\n",
    "plt.ylabel('Accuracy (%)')\n",
    "plt.title('Testing Accuracy Over Epochs')\n",
    "plt.legend()\n",
    "\n",
    "plt.tight_layout()\n",
    "plt.show()"
   ]
  },
  {
   "cell_type": "code",
   "execution_count": 12,
   "metadata": {},
   "outputs": [
    {
     "data": {
      "image/png": "[encoded data removed]",
      "text/plain": [
       "<Figure size 1000x800 with 10 Axes>"
      ]
     },
     "metadata": {},
     "output_type": "display_data"
    }
   ],
   "source": [
    "# Visualize prediction\n",
    "\n",
    "# Create a DataLoader for random sampling from the test dataset\n",
    "random_testloader = torch.utils.data.DataLoader(\n",
    "    dataset_test, batch_size=config[\"batch_size\"], shuffle=True\n",
    ")\n",
    "\n",
    "# Visualize predictions for batch-size random images\n",
    "model.eval()\n",
    "with torch.no_grad():\n",
    "    images, labels = next(iter(random_testloader))\n",
    "    images, labels = images.to(device), labels.to(device)\n",
    "\n",
    "    outputs = model(images)\n",
    "    _, predicted = torch.max(outputs, 1)\n",
    "\n",
    "    plt.figure(figsize=(config[\"batch_size\"], 8))\n",
    "    for i in range(config[\"batch_size\"]):\n",
    "        plt.subplot(2, 5, i + 1)\n",
    "        plt.imshow(images[i].cpu().permute(1, 2, 0).numpy())\n",
    "        plt.title('\\n'.join([\n",
    "            f'Predicted: {predicted[i].item()}',\n",
    "            f'Actual:    {labels[i].item()}'\n",
    "        ]))\n",
    "        plt.axis('off')\n",
    "\n",
    "    plt.tight_layout()\n",
    "    plt.show()"
   ]
  }
 ],
 "metadata": {
  "kernelspec": {
   "display_name": "Python 3 (ipykernel)",
   "language": "python",
   "name": "python3"
  },
  "language_info": {
   "codemirror_mode": {
    "name": "ipython",
    "version": 3
   },
   "file_extension": ".py",
   "mimetype": "text/x-python",
   "name": "python",
   "nbconvert_exporter": "python",
   "pygments_lexer": "ipython3",
   "version": "3.11.6"
  }
 },
 "nbformat": 4,
 "nbformat_minor": 4
}
